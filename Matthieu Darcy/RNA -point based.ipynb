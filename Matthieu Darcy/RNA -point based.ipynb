{
 "cells": [
  {
   "cell_type": "code",
   "execution_count": 1,
   "metadata": {},
   "outputs": [],
   "source": [
    "import numpy as np\n",
    "\n",
    "import pandas as pd\n",
    "\n",
    "from sklearn.model_selection import train_test_split\n",
    "\n",
    "import matplotlib.pyplot as plt"
   ]
  },
  {
   "cell_type": "code",
   "execution_count": 2,
   "metadata": {},
   "outputs": [],
   "source": [
    "df = pd.read_csv('data\\Breast_cancer.csv')"
   ]
  },
  {
   "cell_type": "code",
   "execution_count": 3,
   "metadata": {},
   "outputs": [
    {
     "data": {
      "text/html": [
       "<div>\n",
       "<style scoped>\n",
       "    .dataframe tbody tr th:only-of-type {\n",
       "        vertical-align: middle;\n",
       "    }\n",
       "\n",
       "    .dataframe tbody tr th {\n",
       "        vertical-align: top;\n",
       "    }\n",
       "\n",
       "    .dataframe thead th {\n",
       "        text-align: right;\n",
       "    }\n",
       "</style>\n",
       "<table border=\"1\" class=\"dataframe\">\n",
       "  <thead>\n",
       "    <tr style=\"text-align: right;\">\n",
       "      <th></th>\n",
       "      <th>ID</th>\n",
       "      <th>sequence</th>\n",
       "      <th>class</th>\n",
       "    </tr>\n",
       "  </thead>\n",
       "  <tbody>\n",
       "    <tr>\n",
       "      <th>0</th>\n",
       "      <td>1</td>\n",
       "      <td>AAWKWAWAKKWAKAKKWAKAA</td>\n",
       "      <td>mod. active</td>\n",
       "    </tr>\n",
       "    <tr>\n",
       "      <th>1</th>\n",
       "      <td>2</td>\n",
       "      <td>AIGKFLHSAKKFGKAFVGEIMNS</td>\n",
       "      <td>mod. active</td>\n",
       "    </tr>\n",
       "    <tr>\n",
       "      <th>2</th>\n",
       "      <td>3</td>\n",
       "      <td>AWKKWAKAWKWAKAKWWAKAA</td>\n",
       "      <td>mod. active</td>\n",
       "    </tr>\n",
       "    <tr>\n",
       "      <th>3</th>\n",
       "      <td>4</td>\n",
       "      <td>ESFSDWWKLLAE</td>\n",
       "      <td>mod. active</td>\n",
       "    </tr>\n",
       "    <tr>\n",
       "      <th>4</th>\n",
       "      <td>5</td>\n",
       "      <td>ETFADWWKLLAE</td>\n",
       "      <td>mod. active</td>\n",
       "    </tr>\n",
       "    <tr>\n",
       "      <th>...</th>\n",
       "      <td>...</td>\n",
       "      <td>...</td>\n",
       "      <td>...</td>\n",
       "    </tr>\n",
       "    <tr>\n",
       "      <th>944</th>\n",
       "      <td>945</td>\n",
       "      <td>YLDKEVKLIKKMGNHLTNLRRVA</td>\n",
       "      <td>inactive - virtual</td>\n",
       "    </tr>\n",
       "    <tr>\n",
       "      <th>945</th>\n",
       "      <td>946</td>\n",
       "      <td>YLSESVETIKKLGDHITSLKKLW</td>\n",
       "      <td>inactive - virtual</td>\n",
       "    </tr>\n",
       "    <tr>\n",
       "      <th>946</th>\n",
       "      <td>947</td>\n",
       "      <td>YPIVDAAMRQLTETG</td>\n",
       "      <td>inactive - virtual</td>\n",
       "    </tr>\n",
       "    <tr>\n",
       "      <th>947</th>\n",
       "      <td>948</td>\n",
       "      <td>YQNIVKAVQYAARKLQ</td>\n",
       "      <td>inactive - virtual</td>\n",
       "    </tr>\n",
       "    <tr>\n",
       "      <th>948</th>\n",
       "      <td>949</td>\n",
       "      <td>YQQQKKYLGRMTE</td>\n",
       "      <td>inactive - virtual</td>\n",
       "    </tr>\n",
       "  </tbody>\n",
       "</table>\n",
       "<p>949 rows × 3 columns</p>\n",
       "</div>"
      ],
      "text/plain": [
       "      ID                 sequence               class\n",
       "0      1    AAWKWAWAKKWAKAKKWAKAA         mod. active\n",
       "1      2  AIGKFLHSAKKFGKAFVGEIMNS         mod. active\n",
       "2      3    AWKKWAKAWKWAKAKWWAKAA         mod. active\n",
       "3      4             ESFSDWWKLLAE         mod. active\n",
       "4      5             ETFADWWKLLAE         mod. active\n",
       "..   ...                      ...                 ...\n",
       "944  945  YLDKEVKLIKKMGNHLTNLRRVA  inactive - virtual\n",
       "945  946  YLSESVETIKKLGDHITSLKKLW  inactive - virtual\n",
       "946  947          YPIVDAAMRQLTETG  inactive - virtual\n",
       "947  948         YQNIVKAVQYAARKLQ  inactive - virtual\n",
       "948  949            YQQQKKYLGRMTE  inactive - virtual\n",
       "\n",
       "[949 rows x 3 columns]"
      ]
     },
     "execution_count": 3,
     "metadata": {},
     "output_type": "execute_result"
    }
   ],
   "source": [
    "df"
   ]
  },
  {
   "cell_type": "code",
   "execution_count": 4,
   "metadata": {},
   "outputs": [
    {
     "data": {
      "text/plain": [
       "array(['mod. active', 'inactive - exp', 'very active',\n",
       "       'inactive - virtual'], dtype=object)"
      ]
     },
     "execution_count": 4,
     "metadata": {},
     "output_type": "execute_result"
    }
   ],
   "source": [
    "df[\"class\"].unique()"
   ]
  },
  {
   "cell_type": "code",
   "execution_count": 5,
   "metadata": {},
   "outputs": [],
   "source": [
    "test_df_abnormal = df[df[\"class\"] == \"very active\"]"
   ]
  },
  {
   "cell_type": "code",
   "execution_count": 6,
   "metadata": {},
   "outputs": [
    {
     "data": {
      "text/html": [
       "<div>\n",
       "<style scoped>\n",
       "    .dataframe tbody tr th:only-of-type {\n",
       "        vertical-align: middle;\n",
       "    }\n",
       "\n",
       "    .dataframe tbody tr th {\n",
       "        vertical-align: top;\n",
       "    }\n",
       "\n",
       "    .dataframe thead th {\n",
       "        text-align: right;\n",
       "    }\n",
       "</style>\n",
       "<table border=\"1\" class=\"dataframe\">\n",
       "  <thead>\n",
       "    <tr style=\"text-align: right;\">\n",
       "      <th></th>\n",
       "      <th>ID</th>\n",
       "      <th>sequence</th>\n",
       "      <th>class</th>\n",
       "    </tr>\n",
       "  </thead>\n",
       "  <tbody>\n",
       "    <tr>\n",
       "      <th>26</th>\n",
       "      <td>27</td>\n",
       "      <td>FAKKLAKLAKKLAKLAL</td>\n",
       "      <td>very active</td>\n",
       "    </tr>\n",
       "    <tr>\n",
       "      <th>27</th>\n",
       "      <td>28</td>\n",
       "      <td>FAKKLAKLAKKLAKLALAL</td>\n",
       "      <td>very active</td>\n",
       "    </tr>\n",
       "    <tr>\n",
       "      <th>68</th>\n",
       "      <td>69</td>\n",
       "      <td>FALALKALKKLAKKLKKLAKKAL</td>\n",
       "      <td>very active</td>\n",
       "    </tr>\n",
       "    <tr>\n",
       "      <th>85</th>\n",
       "      <td>86</td>\n",
       "      <td>FLGALFKALSKLL</td>\n",
       "      <td>very active</td>\n",
       "    </tr>\n",
       "    <tr>\n",
       "      <th>87</th>\n",
       "      <td>88</td>\n",
       "      <td>FLGMIPKLIKKLIKAFK</td>\n",
       "      <td>very active</td>\n",
       "    </tr>\n",
       "    <tr>\n",
       "      <th>90</th>\n",
       "      <td>91</td>\n",
       "      <td>FLKLLKKLAAKLF</td>\n",
       "      <td>very active</td>\n",
       "    </tr>\n",
       "    <tr>\n",
       "      <th>91</th>\n",
       "      <td>92</td>\n",
       "      <td>FLSLIPKLVKKIIKAFK</td>\n",
       "      <td>very active</td>\n",
       "    </tr>\n",
       "    <tr>\n",
       "      <th>92</th>\n",
       "      <td>93</td>\n",
       "      <td>GIGAVLKVLTTGLPALISWIKRKRQQ</td>\n",
       "      <td>very active</td>\n",
       "    </tr>\n",
       "    <tr>\n",
       "      <th>99</th>\n",
       "      <td>100</td>\n",
       "      <td>GLFAVIKKVASVIGGL</td>\n",
       "      <td>very active</td>\n",
       "    </tr>\n",
       "    <tr>\n",
       "      <th>126</th>\n",
       "      <td>127</td>\n",
       "      <td>KKKFPWWWPFKKKCKKKFPWWWPFKKKC</td>\n",
       "      <td>very active</td>\n",
       "    </tr>\n",
       "    <tr>\n",
       "      <th>127</th>\n",
       "      <td>128</td>\n",
       "      <td>KKKFPWWWPFKKKKKKFPWWWPFKKKK</td>\n",
       "      <td>very active</td>\n",
       "    </tr>\n",
       "    <tr>\n",
       "      <th>139</th>\n",
       "      <td>140</td>\n",
       "      <td>KWKLFKKALKKLKKALKKAL</td>\n",
       "      <td>very active</td>\n",
       "    </tr>\n",
       "    <tr>\n",
       "      <th>143</th>\n",
       "      <td>144</td>\n",
       "      <td>KWKLFKKILKFLHLAKKF</td>\n",
       "      <td>very active</td>\n",
       "    </tr>\n",
       "    <tr>\n",
       "      <th>155</th>\n",
       "      <td>156</td>\n",
       "      <td>KWKLFKKISKFLHLAKKF</td>\n",
       "      <td>very active</td>\n",
       "    </tr>\n",
       "    <tr>\n",
       "      <th>161</th>\n",
       "      <td>162</td>\n",
       "      <td>KWKSFLKTFKSLKKTVLHTALKAISS</td>\n",
       "      <td>very active</td>\n",
       "    </tr>\n",
       "    <tr>\n",
       "      <th>178</th>\n",
       "      <td>179</td>\n",
       "      <td>RAGLQFPVGRLLRRLLRRLLR</td>\n",
       "      <td>very active</td>\n",
       "    </tr>\n",
       "    <tr>\n",
       "      <th>195</th>\n",
       "      <td>196</td>\n",
       "      <td>WFKKIPKFLHLLKKF</td>\n",
       "      <td>very active</td>\n",
       "    </tr>\n",
       "    <tr>\n",
       "      <th>197</th>\n",
       "      <td>198</td>\n",
       "      <td>WKKIPKFLHLLKKF</td>\n",
       "      <td>very active</td>\n",
       "    </tr>\n",
       "  </tbody>\n",
       "</table>\n",
       "</div>"
      ],
      "text/plain": [
       "      ID                      sequence        class\n",
       "26    27             FAKKLAKLAKKLAKLAL  very active\n",
       "27    28           FAKKLAKLAKKLAKLALAL  very active\n",
       "68    69       FALALKALKKLAKKLKKLAKKAL  very active\n",
       "85    86                 FLGALFKALSKLL  very active\n",
       "87    88             FLGMIPKLIKKLIKAFK  very active\n",
       "90    91                 FLKLLKKLAAKLF  very active\n",
       "91    92             FLSLIPKLVKKIIKAFK  very active\n",
       "92    93    GIGAVLKVLTTGLPALISWIKRKRQQ  very active\n",
       "99   100              GLFAVIKKVASVIGGL  very active\n",
       "126  127  KKKFPWWWPFKKKCKKKFPWWWPFKKKC  very active\n",
       "127  128   KKKFPWWWPFKKKKKKFPWWWPFKKKK  very active\n",
       "139  140          KWKLFKKALKKLKKALKKAL  very active\n",
       "143  144            KWKLFKKILKFLHLAKKF  very active\n",
       "155  156            KWKLFKKISKFLHLAKKF  very active\n",
       "161  162    KWKSFLKTFKSLKKTVLHTALKAISS  very active\n",
       "178  179         RAGLQFPVGRLLRRLLRRLLR  very active\n",
       "195  196               WFKKIPKFLHLLKKF  very active\n",
       "197  198                WKKIPKFLHLLKKF  very active"
      ]
     },
     "execution_count": 6,
     "metadata": {},
     "output_type": "execute_result"
    }
   ],
   "source": [
    "test_df_abnormal"
   ]
  },
  {
   "cell_type": "code",
   "execution_count": 42,
   "metadata": {},
   "outputs": [],
   "source": [
    "test_abnormal = test_df_abnormal[\"sequence\"].to_numpy()\n",
    "np.random.shuffle(test_abnormal)"
   ]
  },
  {
   "cell_type": "code",
   "execution_count": 43,
   "metadata": {},
   "outputs": [
    {
     "data": {
      "text/plain": [
       "(18,)"
      ]
     },
     "execution_count": 43,
     "metadata": {},
     "output_type": "execute_result"
    }
   ],
   "source": [
    "test_abnormal.shape"
   ]
  },
  {
   "cell_type": "code",
   "execution_count": 9,
   "metadata": {},
   "outputs": [],
   "source": [
    "train_df = df[df[\"class\"] == \"inactive - virtual\"]"
   ]
  },
  {
   "cell_type": "code",
   "execution_count": 10,
   "metadata": {},
   "outputs": [
    {
     "data": {
      "text/html": [
       "<div>\n",
       "<style scoped>\n",
       "    .dataframe tbody tr th:only-of-type {\n",
       "        vertical-align: middle;\n",
       "    }\n",
       "\n",
       "    .dataframe tbody tr th {\n",
       "        vertical-align: top;\n",
       "    }\n",
       "\n",
       "    .dataframe thead th {\n",
       "        text-align: right;\n",
       "    }\n",
       "</style>\n",
       "<table border=\"1\" class=\"dataframe\">\n",
       "  <thead>\n",
       "    <tr style=\"text-align: right;\">\n",
       "      <th></th>\n",
       "      <th>ID</th>\n",
       "      <th>sequence</th>\n",
       "      <th>class</th>\n",
       "    </tr>\n",
       "  </thead>\n",
       "  <tbody>\n",
       "    <tr>\n",
       "      <th>199</th>\n",
       "      <td>200</td>\n",
       "      <td>AADIFSKFKKDMEVKFA</td>\n",
       "      <td>inactive - virtual</td>\n",
       "    </tr>\n",
       "    <tr>\n",
       "      <th>200</th>\n",
       "      <td>201</td>\n",
       "      <td>AAQKDNVKSSWAKASA</td>\n",
       "      <td>inactive - virtual</td>\n",
       "    </tr>\n",
       "    <tr>\n",
       "      <th>201</th>\n",
       "      <td>202</td>\n",
       "      <td>AASQRKLIAEKFAQALMSSL</td>\n",
       "      <td>inactive - virtual</td>\n",
       "    </tr>\n",
       "    <tr>\n",
       "      <th>202</th>\n",
       "      <td>203</td>\n",
       "      <td>AAYATLYEALVLVATLAAP</td>\n",
       "      <td>inactive - virtual</td>\n",
       "    </tr>\n",
       "    <tr>\n",
       "      <th>203</th>\n",
       "      <td>204</td>\n",
       "      <td>AEAHESIRLVFHDS</td>\n",
       "      <td>inactive - virtual</td>\n",
       "    </tr>\n",
       "    <tr>\n",
       "      <th>...</th>\n",
       "      <td>...</td>\n",
       "      <td>...</td>\n",
       "      <td>...</td>\n",
       "    </tr>\n",
       "    <tr>\n",
       "      <th>944</th>\n",
       "      <td>945</td>\n",
       "      <td>YLDKEVKLIKKMGNHLTNLRRVA</td>\n",
       "      <td>inactive - virtual</td>\n",
       "    </tr>\n",
       "    <tr>\n",
       "      <th>945</th>\n",
       "      <td>946</td>\n",
       "      <td>YLSESVETIKKLGDHITSLKKLW</td>\n",
       "      <td>inactive - virtual</td>\n",
       "    </tr>\n",
       "    <tr>\n",
       "      <th>946</th>\n",
       "      <td>947</td>\n",
       "      <td>YPIVDAAMRQLTETG</td>\n",
       "      <td>inactive - virtual</td>\n",
       "    </tr>\n",
       "    <tr>\n",
       "      <th>947</th>\n",
       "      <td>948</td>\n",
       "      <td>YQNIVKAVQYAARKLQ</td>\n",
       "      <td>inactive - virtual</td>\n",
       "    </tr>\n",
       "    <tr>\n",
       "      <th>948</th>\n",
       "      <td>949</td>\n",
       "      <td>YQQQKKYLGRMTE</td>\n",
       "      <td>inactive - virtual</td>\n",
       "    </tr>\n",
       "  </tbody>\n",
       "</table>\n",
       "<p>750 rows × 3 columns</p>\n",
       "</div>"
      ],
      "text/plain": [
       "      ID                 sequence               class\n",
       "199  200        AADIFSKFKKDMEVKFA  inactive - virtual\n",
       "200  201         AAQKDNVKSSWAKASA  inactive - virtual\n",
       "201  202     AASQRKLIAEKFAQALMSSL  inactive - virtual\n",
       "202  203      AAYATLYEALVLVATLAAP  inactive - virtual\n",
       "203  204           AEAHESIRLVFHDS  inactive - virtual\n",
       "..   ...                      ...                 ...\n",
       "944  945  YLDKEVKLIKKMGNHLTNLRRVA  inactive - virtual\n",
       "945  946  YLSESVETIKKLGDHITSLKKLW  inactive - virtual\n",
       "946  947          YPIVDAAMRQLTETG  inactive - virtual\n",
       "947  948         YQNIVKAVQYAARKLQ  inactive - virtual\n",
       "948  949            YQQQKKYLGRMTE  inactive - virtual\n",
       "\n",
       "[750 rows x 3 columns]"
      ]
     },
     "execution_count": 10,
     "metadata": {},
     "output_type": "execute_result"
    }
   ],
   "source": [
    "train_df"
   ]
  },
  {
   "cell_type": "code",
   "execution_count": null,
   "metadata": {},
   "outputs": [],
   "source": []
  },
  {
   "cell_type": "code",
   "execution_count": 30,
   "metadata": {},
   "outputs": [],
   "source": [
    "train= train_df[\"sequence\"].to_numpy()"
   ]
  },
  {
   "cell_type": "code",
   "execution_count": 44,
   "metadata": {},
   "outputs": [],
   "source": [
    "train_normal, test_normal = train_test_split(train, test_size = test_abnormal.shape[0]*10, shuffle = True)"
   ]
  },
  {
   "cell_type": "code",
   "execution_count": 45,
   "metadata": {},
   "outputs": [],
   "source": [
    "train_normal = train_normal"
   ]
  },
  {
   "cell_type": "code",
   "execution_count": 46,
   "metadata": {},
   "outputs": [
    {
     "data": {
      "text/plain": [
       "((570,), (180,))"
      ]
     },
     "execution_count": 46,
     "metadata": {},
     "output_type": "execute_result"
    }
   ],
   "source": [
    "train_normal.shape, test_normal.shape"
   ]
  },
  {
   "cell_type": "code",
   "execution_count": 91,
   "metadata": {},
   "outputs": [
    {
     "data": {
      "text/plain": [
       "19"
      ]
     },
     "execution_count": 91,
     "metadata": {},
     "output_type": "execute_result"
    }
   ],
   "source": [
    "len(train_normal[4])"
   ]
  },
  {
   "cell_type": "code",
   "execution_count": 94,
   "metadata": {},
   "outputs": [
    {
     "data": {
      "text/plain": [
       "21"
      ]
     },
     "execution_count": 94,
     "metadata": {},
     "output_type": "execute_result"
    }
   ],
   "source": [
    "len(test_abnormal[5])"
   ]
  },
  {
   "cell_type": "code",
   "execution_count": 47,
   "metadata": {},
   "outputs": [
    {
     "data": {
      "text/plain": [
       "(18,)"
      ]
     },
     "execution_count": 47,
     "metadata": {},
     "output_type": "execute_result"
    }
   ],
   "source": [
    "test_abnormal.shape"
   ]
  },
  {
   "cell_type": "code",
   "execution_count": 52,
   "metadata": {},
   "outputs": [
    {
     "data": {
      "text/plain": [
       "((570,), (180,), (18,))"
      ]
     },
     "execution_count": 52,
     "metadata": {},
     "output_type": "execute_result"
    }
   ],
   "source": [
    "np.unique(train_normal).shape, np.unique(test_normal).shape, np.unique(test_abnormal).shape"
   ]
  },
  {
   "cell_type": "markdown",
   "metadata": {},
   "source": [
    "# Applying similarity technique"
   ]
  },
  {
   "cell_type": "code",
   "execution_count": 48,
   "metadata": {},
   "outputs": [],
   "source": [
    "from importlib import reload\n",
    "import Kmedoids\n",
    "Kmedoids = reload(Kmedoids)\n",
    "from Kmedoids import kMedoids\n",
    "\n",
    "from Kmedoids import kMedoids\n",
    "from helper_functions import pairwise_distance, nLCS\n",
    "from score_distance import distance_k_neighbor, distance_clusters\n",
    "\n",
    "import matplotlib.pyplot as plt"
   ]
  },
  {
   "cell_type": "code",
   "execution_count": 49,
   "metadata": {},
   "outputs": [
    {
     "data": {
      "text/plain": [
       "array([[0.        , 0.71909968, 0.67974369, ..., 0.71132487, 0.64863582,\n",
       "        0.71890865],\n",
       "       [0.71909968, 0.        , 0.59517955, ..., 0.68722838, 0.61930651,\n",
       "        0.65737586],\n",
       "       [0.67974369, 0.59517955, 0.        , ..., 0.7226499 , 0.74681516,\n",
       "        0.69617819],\n",
       "       ...,\n",
       "       [0.71132487, 0.68722838, 0.7226499 , ..., 0.        , 0.77178227,\n",
       "        0.72613872],\n",
       "       [0.64863582, 0.61930651, 0.74681516, ..., 0.77178227, 0.        ,\n",
       "        0.6       ],\n",
       "       [0.71890865, 0.65737586, 0.69617819, ..., 0.72613872, 0.6       ,\n",
       "        0.        ]])"
      ]
     },
     "execution_count": 49,
     "metadata": {},
     "output_type": "execute_result"
    }
   ],
   "source": [
    "# The distance matrix is 1-similarity\n",
    "D  = pairwise_distance(train_normal, nLCS)\n",
    "\n",
    "D = 1-D\n",
    "D"
   ]
  },
  {
   "cell_type": "code",
   "execution_count": 53,
   "metadata": {},
   "outputs": [],
   "source": [
    "D_normal = pairwise_distance(test_normal, nLCS, Y = train)\n",
    "\n",
    "D_normal = 1-D_normal"
   ]
  },
  {
   "cell_type": "code",
   "execution_count": 54,
   "metadata": {},
   "outputs": [],
   "source": [
    "D_abnormal = pairwise_distance(test_abnormal, nLCS, Y = train)\n",
    "\n",
    "D_abnormal = 1-D_abnormal"
   ]
  },
  {
   "cell_type": "code",
   "execution_count": 55,
   "metadata": {},
   "outputs": [
    {
     "data": {
      "text/plain": [
       "((180, 750), (18, 750))"
      ]
     },
     "execution_count": 55,
     "metadata": {},
     "output_type": "execute_result"
    }
   ],
   "source": [
    "D_normal.shape, D_abnormal.shape"
   ]
  },
  {
   "cell_type": "code",
   "execution_count": 59,
   "metadata": {},
   "outputs": [
    {
     "data": {
      "text/plain": [
       "(570, 570)"
      ]
     },
     "execution_count": 59,
     "metadata": {},
     "output_type": "execute_result"
    }
   ],
   "source": [
    "D.shape"
   ]
  },
  {
   "cell_type": "markdown",
   "metadata": {},
   "source": [
    "## Medoids: 10 medoids"
   ]
  },
  {
   "cell_type": "code",
   "execution_count": 57,
   "metadata": {},
   "outputs": [
    {
     "name": "stdout",
     "output_type": "stream",
     "text": [
      "Terminated in 0 iterations\n"
     ]
    },
    {
     "data": {
      "text/plain": [
       "(array([  6,  45,  64,  77, 287, 290, 312, 315, 321, 437]),\n",
       " {0: array([  0,   6,   7,   8,  31,  44,  69,  81,  99, 101, 112, 117, 124,\n",
       "         133, 160, 162, 169, 177, 179, 188, 194, 206, 219, 221, 224, 243,\n",
       "         247, 250, 262, 266, 274, 286, 298, 301, 317, 318, 320, 328, 330,\n",
       "         349, 350, 352, 353, 355, 384, 387, 398, 400, 402, 407, 418, 422,\n",
       "         432, 476, 482, 485, 492, 502, 504, 522, 534, 546, 552, 555, 560],\n",
       "        dtype=int64),\n",
       "  1: array([  1,  24,  26,  32,  36,  43,  45,  72,  85,  86,  91,  93, 100,\n",
       "         105, 125, 136, 141, 142, 150, 155, 163, 178, 186, 187, 196, 212,\n",
       "         249, 257, 258, 284, 303, 310, 314, 332, 333, 338, 341, 345, 347,\n",
       "         354, 360, 364, 370, 374, 376, 382, 386, 394, 435, 454, 472, 483,\n",
       "         486, 491, 512, 517, 537, 540, 548, 551, 562, 569], dtype=int64),\n",
       "  2: array([ 14,  17,  18,  46,  47,  49,  60,  61,  63,  64,  66,  67,  68,\n",
       "          75,  82,  83,  84, 104, 107, 123, 129, 130, 138, 149, 159, 165,\n",
       "         173, 191, 193, 202, 208, 211, 217, 223, 225, 234, 237, 255, 276,\n",
       "         296, 306, 313, 324, 342, 356, 375, 378, 395, 401, 406, 424, 425,\n",
       "         436, 438, 447, 451, 456, 463, 469, 477, 479, 490, 493, 499, 526,\n",
       "         535, 542, 543, 554, 556, 559], dtype=int64),\n",
       "  3: array([  4,   9,  10,  16,  62,  70,  77,  79,  98, 108, 109, 118, 127,\n",
       "         134, 135, 139, 147, 180, 185, 192, 195, 227, 231, 248, 256, 264,\n",
       "         268, 273, 275, 279, 293, 308, 309, 316, 319, 326, 329, 344, 365,\n",
       "         380, 381, 393, 415, 427, 430, 434, 439, 448, 449, 457, 458, 468,\n",
       "         474, 484, 497, 508, 515, 516, 531], dtype=int64),\n",
       "  4: array([ 13,  22,  25,  50,  56,  73,  78,  88,  89,  90, 137, 158, 181,\n",
       "         184, 189, 200, 222, 229, 239, 240, 241, 260, 285, 287, 307, 337,\n",
       "         361, 363, 367, 371, 373, 377, 423, 428, 440, 441, 444, 446, 455,\n",
       "         459, 464, 465, 466, 473, 496, 511, 523, 529, 538, 553, 563, 565],\n",
       "        dtype=int64),\n",
       "  5: array([  2,   3,   5,  12,  15,  33,  41,  42,  57,  59,  65,  74,  76,\n",
       "          97, 106, 113, 114, 115, 132, 152, 157, 166, 167, 172, 176, 197,\n",
       "         198, 199, 213, 214, 218, 233, 245, 251, 259, 269, 277, 282, 290,\n",
       "         297, 299, 304, 305, 311, 325, 331, 334, 346, 357, 366, 368, 383,\n",
       "         385, 390, 409, 420, 431, 433, 443, 450, 467, 471, 481, 495, 503,\n",
       "         505, 507, 510, 513, 521, 524, 527, 528, 533, 539, 545, 547, 549,\n",
       "         558, 564, 567], dtype=int64),\n",
       "  6: array([ 28,  38,  39,  52,  53,  80, 102, 116, 122, 126, 144, 201, 210,\n",
       "         215, 216, 246, 252, 261, 263, 267, 270, 281, 283, 289, 312, 322,\n",
       "         327, 340, 388, 389, 396, 413, 462, 494, 536, 568], dtype=int64),\n",
       "  7: array([ 21,  34,  35,  55,  58,  87,  94,  95, 110, 111, 120, 148, 153,\n",
       "         168, 182, 183, 205, 207, 220, 228, 232, 254, 271, 272, 294, 300,\n",
       "         315, 323, 335, 336, 397, 403, 404, 405, 408, 414, 417, 421, 429,\n",
       "         442, 460, 461, 470, 475, 478, 509, 518, 530, 532, 541], dtype=int64),\n",
       "  8: array([ 19,  20,  23,  48,  51,  54,  71, 103, 121, 128, 140, 151, 154,\n",
       "         156, 161, 164, 174, 209, 230, 235, 238, 242, 244, 278, 292, 321,\n",
       "         339, 343, 358, 362, 369, 379, 419, 453, 487, 488, 489, 498, 501,\n",
       "         506, 514, 519, 544, 550, 557, 566], dtype=int64),\n",
       "  9: array([ 11,  27,  29,  30,  37,  40,  92,  96, 119, 131, 143, 145, 146,\n",
       "         170, 171, 175, 190, 203, 204, 226, 236, 253, 265, 280, 288, 291,\n",
       "         295, 302, 348, 351, 359, 372, 391, 392, 399, 410, 411, 412, 416,\n",
       "         426, 437, 445, 452, 480, 500, 520, 525, 561], dtype=int64)})"
      ]
     },
     "execution_count": 57,
     "metadata": {},
     "output_type": "execute_result"
    }
   ],
   "source": [
    "# Computing the medoids\n",
    "\n",
    "n_clusters = 10\n",
    "M, C = kMedoids(D, n_clusters, init = \"random\")\n",
    "\n",
    "M, C"
   ]
  },
  {
   "cell_type": "code",
   "execution_count": 62,
   "metadata": {},
   "outputs": [],
   "source": [
    "# Assigning the clusters\n",
    "clusters_normal = np.argmin(D_normal[:, M], axis = 1)\n",
    "clusters_abnormal = np.argmin(D_abnormal[:, M], axis = 1)"
   ]
  },
  {
   "cell_type": "code",
   "execution_count": 63,
   "metadata": {},
   "outputs": [],
   "source": [
    "# Computing the scores (the smallest distance)\n",
    "score_normal = np.min(D_normal[:, M], axis = 1)\n",
    "score_abnormal = np.min(D_abnormal[:, M], axis = 1)"
   ]
  },
  {
   "cell_type": "code",
   "execution_count": 64,
   "metadata": {},
   "outputs": [],
   "source": [
    "# Computing all the scores:\n",
    "labels = np.zeros(score_normal.shape[0]+ score_abnormal.shape[0])\n",
    "labels[score_normal.shape[0]: ] = 1\n",
    "scores = np.hstack((score_normal, score_abnormal))\n",
    "scores = np.vstack((scores, labels)).T"
   ]
  },
  {
   "cell_type": "code",
   "execution_count": 65,
   "metadata": {},
   "outputs": [],
   "source": [
    "scores_sorted = scores[scores[:, 0].argsort()]"
   ]
  },
  {
   "cell_type": "code",
   "execution_count": 66,
   "metadata": {},
   "outputs": [
    {
     "data": {
      "text/plain": [
       "<matplotlib.legend.Legend at 0x2113fda7048>"
      ]
     },
     "execution_count": 66,
     "metadata": {},
     "output_type": "execute_result"
    },
    {
     "data": {
      "image/png": "[encoded data removed]",
      "text/plain": [
       "<Figure size 720x576 with 1 Axes>"
      ]
     },
     "metadata": {
      "needs_background": "light"
     },
     "output_type": "display_data"
    }
   ],
   "source": [
    "\n",
    "plt.figure(figsize = (10,8))\n",
    "\n",
    "for i in range(scores.shape[0]):\n",
    "    if scores_sorted[i, 1] == 0:\n",
    "        c = \"blue\"\n",
    "        label = \"normal\"\n",
    "    else:\n",
    "        c = \"red\"\n",
    "        label = \"abnormal\"\n",
    "    plt.bar(i, scores_sorted[i, 0], color = c, label = label, width = 0.25)\n",
    "plt.legend(prop={'size': 20})\n",
    "plt.title(\"Normality scores for normal and abnormal sequences (lower is better)\", size = 20)\n",
    "handles, labels = plt.gca().get_legend_handles_labels()\n",
    "by_label = dict(zip(labels, handles))\n",
    "plt.legend(by_label.values(), by_label.keys(), prop={'size': 20})"
   ]
  },
  {
   "cell_type": "code",
   "execution_count": 67,
   "metadata": {},
   "outputs": [
    {
     "data": {
      "text/plain": [
       "(198, 2)"
      ]
     },
     "execution_count": 67,
     "metadata": {},
     "output_type": "execute_result"
    }
   ],
   "source": [
    "scores.shape"
   ]
  },
  {
   "cell_type": "code",
   "execution_count": 68,
   "metadata": {},
   "outputs": [
    {
     "name": "stdout",
     "output_type": "stream",
     "text": [
      "The number of abnormalities found is 2\n"
     ]
    }
   ],
   "source": [
    "ab = np.where(scores_sorted[-20:] == 1)[0].shape[0]\n",
    "\n",
    "print(\"The number of abnormalities found is {}\".format(ab))"
   ]
  },
  {
   "cell_type": "markdown",
   "metadata": {},
   "source": [
    "## Medoids: 3 medoids"
   ]
  },
  {
   "cell_type": "code",
   "execution_count": 69,
   "metadata": {},
   "outputs": [
    {
     "name": "stdout",
     "output_type": "stream",
     "text": [
      "Terminated in 1 iterations\n"
     ]
    },
    {
     "data": {
      "text/plain": [
       "(array([438, 402,  10]),\n",
       " {0: array([  0,   3,   9,  12,  14,  15,  16,  17,  18,  19,  21,  22,  23,\n",
       "          24,  25,  28,  32,  33,  34,  36,  38,  39,  40,  41,  47,  48,\n",
       "          49,  50,  51,  52,  53,  54,  55,  59,  60,  64,  66,  67,  69,\n",
       "          70,  73,  78,  80,  83,  84,  85,  86,  88,  89,  90,  94,  95,\n",
       "          96,  98, 101, 103, 108, 113, 114, 115, 116, 117, 119, 120, 121,\n",
       "         122, 126, 128, 130, 134, 135, 137, 138, 141, 144, 146, 147, 148,\n",
       "         151, 152, 154, 157, 162, 163, 164, 165, 173, 175, 180, 181, 187,\n",
       "         188, 190, 191, 192, 195, 196, 197, 199, 200, 202, 205, 207, 208,\n",
       "         210, 211, 212, 221, 224, 225, 229, 236, 237, 239, 242, 249, 257,\n",
       "         261, 267, 270, 271, 275, 276, 277, 279, 282, 287, 291, 293, 297,\n",
       "         298, 300, 301, 302, 304, 305, 306, 309, 311, 312, 313, 314, 318,\n",
       "         319, 321, 326, 327, 328, 331, 340, 341, 342, 343, 344, 347, 356,\n",
       "         358, 361, 362, 368, 373, 375, 378, 380, 383, 391, 394, 396, 397,\n",
       "         398, 399, 400, 404, 406, 408, 410, 415, 417, 418, 419, 420, 425,\n",
       "         426, 428, 433, 435, 438, 439, 442, 443, 446, 447, 449, 453, 456,\n",
       "         458, 460, 464, 465, 466, 467, 471, 473, 475, 477, 479, 483, 487,\n",
       "         488, 489, 491, 494, 495, 497, 499, 500, 501, 502, 503, 504, 509,\n",
       "         512, 513, 515, 516, 518, 519, 520, 524, 525, 526, 527, 528, 531,\n",
       "         532, 534, 536, 538, 539, 540, 545, 546, 549, 550, 552, 553, 554,\n",
       "         555, 556, 557, 559, 567, 568], dtype=int64),\n",
       "  1: array([  4,   6,   7,   8,  11,  20,  29,  30,  31,  42,  44,  46,  57,\n",
       "          58,  62,  63,  68,  71,  75,  82,  91,  92,  97, 104, 106, 107,\n",
       "         112, 118, 125, 127, 129, 132, 142, 143, 149, 150, 155, 169, 171,\n",
       "         194, 203, 204, 206, 216, 217, 219, 220, 243, 251, 255, 256, 259,\n",
       "         262, 265, 266, 272, 274, 281, 283, 286, 289, 296, 299, 322, 324,\n",
       "         325, 330, 332, 336, 337, 338, 339, 346, 350, 352, 354, 370, 371,\n",
       "         374, 376, 379, 381, 382, 385, 387, 388, 390, 393, 395, 402, 412,\n",
       "         424, 437, 444, 445, 450, 463, 474, 476, 478, 506, 507, 523, 530,\n",
       "         535, 543, 547, 548, 558, 563, 564, 566], dtype=int64),\n",
       "  2: array([  1,   2,   5,  10,  13,  26,  27,  35,  37,  43,  45,  56,  61,\n",
       "          65,  72,  74,  76,  77,  79,  81,  87,  93,  99, 100, 102, 105,\n",
       "         109, 110, 111, 123, 124, 131, 133, 136, 139, 140, 145, 153, 156,\n",
       "         158, 159, 160, 161, 166, 167, 168, 170, 172, 174, 176, 177, 178,\n",
       "         179, 182, 183, 184, 185, 186, 189, 193, 198, 201, 209, 213, 214,\n",
       "         215, 218, 222, 223, 226, 227, 228, 230, 231, 232, 233, 234, 235,\n",
       "         238, 240, 241, 244, 245, 246, 247, 248, 250, 252, 253, 254, 258,\n",
       "         260, 263, 264, 268, 269, 273, 278, 280, 284, 285, 288, 290, 292,\n",
       "         294, 295, 303, 307, 308, 310, 315, 316, 317, 320, 323, 329, 333,\n",
       "         334, 335, 345, 348, 349, 351, 353, 355, 357, 359, 360, 363, 364,\n",
       "         365, 366, 367, 369, 372, 377, 384, 386, 389, 392, 401, 403, 405,\n",
       "         407, 409, 411, 413, 414, 416, 421, 422, 423, 427, 429, 430, 431,\n",
       "         432, 434, 436, 440, 441, 448, 451, 452, 454, 455, 457, 459, 461,\n",
       "         462, 468, 469, 470, 472, 480, 481, 482, 484, 485, 486, 490, 492,\n",
       "         493, 496, 498, 505, 508, 510, 511, 514, 517, 521, 522, 529, 533,\n",
       "         537, 541, 542, 544, 551, 560, 561, 562, 565, 569], dtype=int64)})"
      ]
     },
     "execution_count": 69,
     "metadata": {},
     "output_type": "execute_result"
    }
   ],
   "source": [
    "# Computing the medoids\n",
    "\n",
    "n_clusters = 3\n",
    "M, C = kMedoids(D, n_clusters, init = \"random\")\n",
    "\n",
    "M, C"
   ]
  },
  {
   "cell_type": "code",
   "execution_count": 70,
   "metadata": {},
   "outputs": [],
   "source": [
    "# Assigning the clusters\n",
    "clusters_normal = np.argmin(D_normal[:, M], axis = 1)\n",
    "clusters_abnormal = np.argmin(D_abnormal[:, M], axis = 1)"
   ]
  },
  {
   "cell_type": "code",
   "execution_count": 71,
   "metadata": {},
   "outputs": [],
   "source": [
    "# Computing the scores (the smallest distance)\n",
    "score_normal = np.min(D_normal[:, M], axis = 1)\n",
    "score_abnormal = np.min(D_abnormal[:, M], axis = 1)"
   ]
  },
  {
   "cell_type": "code",
   "execution_count": 72,
   "metadata": {},
   "outputs": [],
   "source": [
    "# Computing all the scores:\n",
    "labels = np.zeros(score_normal.shape[0]+ score_abnormal.shape[0])\n",
    "labels[score_normal.shape[0]: ] = 1\n",
    "scores = np.hstack((score_normal, score_abnormal))\n",
    "scores = np.vstack((scores, labels)).T"
   ]
  },
  {
   "cell_type": "code",
   "execution_count": 73,
   "metadata": {},
   "outputs": [],
   "source": [
    "scores_sorted = scores[scores[:, 0].argsort()]"
   ]
  },
  {
   "cell_type": "code",
   "execution_count": 74,
   "metadata": {},
   "outputs": [
    {
     "data": {
      "text/plain": [
       "<matplotlib.legend.Legend at 0x211407f24e0>"
      ]
     },
     "execution_count": 74,
     "metadata": {},
     "output_type": "execute_result"
    },
    {
     "data": {
      "image/png": "[encoded data removed]",
      "text/plain": [
       "<Figure size 720x576 with 1 Axes>"
      ]
     },
     "metadata": {
      "needs_background": "light"
     },
     "output_type": "display_data"
    }
   ],
   "source": [
    "\n",
    "plt.figure(figsize = (10,8))\n",
    "\n",
    "for i in range(scores.shape[0]):\n",
    "    if scores_sorted[i, 1] == 0:\n",
    "        c = \"blue\"\n",
    "        label = \"normal\"\n",
    "    else:\n",
    "        c = \"red\"\n",
    "        label = \"abnormal\"\n",
    "    plt.bar(i, scores_sorted[i, 0], color = c, label = label, width = 0.25)\n",
    "plt.legend(prop={'size': 20})\n",
    "plt.title(\"Normality scores for normal and abnormal sequences (lower is better)\", size = 20)\n",
    "handles, labels = plt.gca().get_legend_handles_labels()\n",
    "by_label = dict(zip(labels, handles))\n",
    "plt.legend(by_label.values(), by_label.keys(), prop={'size': 20})"
   ]
  },
  {
   "cell_type": "code",
   "execution_count": 75,
   "metadata": {},
   "outputs": [
    {
     "data": {
      "text/plain": [
       "(198, 2)"
      ]
     },
     "execution_count": 75,
     "metadata": {},
     "output_type": "execute_result"
    }
   ],
   "source": [
    "scores.shape"
   ]
  },
  {
   "cell_type": "code",
   "execution_count": 76,
   "metadata": {},
   "outputs": [
    {
     "name": "stdout",
     "output_type": "stream",
     "text": [
      "The number of abnormalities found is 4\n"
     ]
    }
   ],
   "source": [
    "ab = np.where(scores_sorted[-20:] == 1)[0].shape[0]\n",
    "\n",
    "print(\"The number of abnormalities found is {}\".format(ab))"
   ]
  },
  {
   "cell_type": "markdown",
   "metadata": {},
   "source": [
    "# K-NN: 1 N"
   ]
  },
  {
   "cell_type": "code",
   "execution_count": 77,
   "metadata": {},
   "outputs": [],
   "source": [
    "#compute the score given by the distance to the kth nearest neighbor\n",
    "\n",
    "score_normal_nn = distance_k_neighbor(D_normal, 1)\n",
    "score_abnormal_nn = distance_k_neighbor(D_abnormal, 1)"
   ]
  },
  {
   "cell_type": "code",
   "execution_count": 78,
   "metadata": {},
   "outputs": [],
   "source": [
    "# Computing all the scores:\n",
    "labels = np.zeros(score_normal_nn.shape[0]+ score_abnormal_nn.shape[0])\n",
    "labels[score_normal_nn.shape[0]: ] = 1\n",
    "scores = np.hstack((score_normal_nn, score_abnormal_nn))\n",
    "scores = np.vstack((scores, labels)).T"
   ]
  },
  {
   "cell_type": "code",
   "execution_count": 79,
   "metadata": {},
   "outputs": [],
   "source": [
    "scores_sorted = scores[scores[:, 0].argsort()]"
   ]
  },
  {
   "cell_type": "code",
   "execution_count": 80,
   "metadata": {},
   "outputs": [
    {
     "data": {
      "text/plain": [
       "<matplotlib.legend.Legend at 0x211410daef0>"
      ]
     },
     "execution_count": 80,
     "metadata": {},
     "output_type": "execute_result"
    },
    {
     "data": {
      "image/png": "[encoded data removed]",
      "text/plain": [
       "<Figure size 720x576 with 1 Axes>"
      ]
     },
     "metadata": {
      "needs_background": "light"
     },
     "output_type": "display_data"
    }
   ],
   "source": [
    "\n",
    "plt.figure(figsize = (10,8))\n",
    "\n",
    "for i in range(scores.shape[0]):\n",
    "    if scores_sorted[i, 1] == 0:\n",
    "        c = \"blue\"\n",
    "        label = \"normal\"\n",
    "    else:\n",
    "        c = \"red\"\n",
    "        label = \"abnormal\"\n",
    "    plt.bar(i, scores_sorted[i, 0], color = c, label = label, width = 0.25)\n",
    "plt.legend(prop={'size': 20})\n",
    "plt.title(\"Normality scores for normal and abnormal sequences (lower is better)\", size = 20)\n",
    "handles, labels = plt.gca().get_legend_handles_labels()\n",
    "by_label = dict(zip(labels, handles))\n",
    "plt.legend(by_label.values(), by_label.keys(), prop={'size': 20})"
   ]
  },
  {
   "cell_type": "code",
   "execution_count": 81,
   "metadata": {},
   "outputs": [
    {
     "name": "stdout",
     "output_type": "stream",
     "text": [
      "The number of abnormalities found is 5\n"
     ]
    }
   ],
   "source": [
    "ab = np.where(scores_sorted[-20:] == 1)[0].shape[0]\n",
    "\n",
    "print(\"The number of abnormalities found is {}\".format(ab))"
   ]
  },
  {
   "cell_type": "markdown",
   "metadata": {},
   "source": [
    "# K-NN: 5 N"
   ]
  },
  {
   "cell_type": "code",
   "execution_count": 82,
   "metadata": {},
   "outputs": [],
   "source": [
    "#compute the score given by the distance to the kth nearest neighbor\n",
    "\n",
    "score_normal_nn = distance_k_neighbor(D_normal, 5)\n",
    "score_abnormal_nn = distance_k_neighbor(D_abnormal, 5)"
   ]
  },
  {
   "cell_type": "code",
   "execution_count": 83,
   "metadata": {},
   "outputs": [],
   "source": [
    "# Computing all the scores:\n",
    "labels = np.zeros(score_normal_nn.shape[0]+ score_abnormal_nn.shape[0])\n",
    "labels[score_normal_nn.shape[0]: ] = 1\n",
    "scores = np.hstack((score_normal_nn, score_abnormal_nn))\n",
    "scores = np.vstack((scores, labels)).T"
   ]
  },
  {
   "cell_type": "code",
   "execution_count": 84,
   "metadata": {},
   "outputs": [],
   "source": [
    "scores_sorted = scores[scores[:, 0].argsort()]"
   ]
  },
  {
   "cell_type": "code",
   "execution_count": 85,
   "metadata": {},
   "outputs": [
    {
     "data": {
      "text/plain": [
       "<matplotlib.legend.Legend at 0x2113fc603c8>"
      ]
     },
     "execution_count": 85,
     "metadata": {},
     "output_type": "execute_result"
    },
    {
     "data": {
      "image/png": "[encoded data removed]",
      "text/plain": [
       "<Figure size 720x576 with 1 Axes>"
      ]
     },
     "metadata": {
      "needs_background": "light"
     },
     "output_type": "display_data"
    }
   ],
   "source": [
    "\n",
    "plt.figure(figsize = (10,8))\n",
    "\n",
    "for i in range(scores.shape[0]):\n",
    "    if scores_sorted[i, 1] == 0:\n",
    "        c = \"blue\"\n",
    "        label = \"normal\"\n",
    "    else:\n",
    "        c = \"red\"\n",
    "        label = \"abnormal\"\n",
    "    plt.bar(i, scores_sorted[i, 0], color = c, label = label, width = 0.25)\n",
    "plt.legend(prop={'size': 20})\n",
    "plt.title(\"Normality scores for normal and abnormal sequences (lower is better)\", size = 20)\n",
    "handles, labels = plt.gca().get_legend_handles_labels()\n",
    "by_label = dict(zip(labels, handles))\n",
    "plt.legend(by_label.values(), by_label.keys(), prop={'size': 20})"
   ]
  },
  {
   "cell_type": "code",
   "execution_count": 86,
   "metadata": {},
   "outputs": [
    {
     "name": "stdout",
     "output_type": "stream",
     "text": [
      "The number of abnormalities found is 4\n"
     ]
    }
   ],
   "source": [
    "ab = np.where(scores_sorted[-20:] == 1)[0].shape[0]\n",
    "\n",
    "print(\"The number of abnormalities found is {}\".format(ab))"
   ]
  },
  {
   "cell_type": "code",
   "execution_count": null,
   "metadata": {},
   "outputs": [],
   "source": []
  },
  {
   "cell_type": "code",
   "execution_count": null,
   "metadata": {},
   "outputs": [],
   "source": []
  },
  {
   "cell_type": "code",
   "execution_count": null,
   "metadata": {},
   "outputs": [],
   "source": []
  }
 ],
 "metadata": {
  "kernelspec": {
   "display_name": "Python 3",
   "language": "python",
   "name": "python3"
  },
  "language_info": {
   "codemirror_mode": {
    "name": "ipython",
    "version": 3
   },
   "file_extension": ".py",
   "mimetype": "text/x-python",
   "name": "python",
   "nbconvert_exporter": "python",
   "pygments_lexer": "ipython3",
   "version": "3.7.3"
  }
 },
 "nbformat": 4,
 "nbformat_minor": 4
}
