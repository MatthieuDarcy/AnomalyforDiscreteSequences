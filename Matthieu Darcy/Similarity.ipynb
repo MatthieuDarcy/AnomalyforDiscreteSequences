{
 "cells": [
  {
   "cell_type": "markdown",
   "metadata": {},
   "source": [
    "# Similarity based\n",
    "\n",
    "Algorithm: \n",
    "\n",
    "Compute similarity using subsequence similarity: Hunt-Szymanski Algorithm\n",
    "\n",
    "Compute clusters using kmemoids: PAM algorithm\n",
    "\n",
    "Measure anomaly using dissimalirty to the memoid.\n",
    "\n"
   ]
  },
  {
   "cell_type": "code",
   "execution_count": 1,
   "metadata": {},
   "outputs": [],
   "source": [
    "from sklearn_extra.cluster import KMedoids\n",
    "from sklearn.metrics import pairwise_distances\n",
    "from sklearn.neighbors import KNeighborsClassifier\n",
    "import numpy as np\n",
    "\n",
    "from Kmedoids import kMedoids\n",
    "\n",
    "from helper_functions import pairwise_distance, nLCS\n",
    "\n",
    "from score_distance import distance_k_neighbor, distance_clusters"
   ]
  },
  {
   "cell_type": "code",
   "execution_count": 2,
   "metadata": {},
   "outputs": [],
   "source": [
    "def convert_str_data(X):\n",
    "    return np.expand_dims(np.arange(X.shape[0]), axis = -1)"
   ]
  },
  {
   "cell_type": "code",
   "execution_count": 3,
   "metadata": {},
   "outputs": [],
   "source": [
    "# Define some strings\n",
    "\n",
    "a = \"fasdjfksdafjsdklfj\"\n",
    "b = \"erfgujergjiojiolergjikmv\"\n",
    "c = \"aaaaaaaaa\"\n",
    "d = \"thasjkhj\""
   ]
  },
  {
   "cell_type": "code",
   "execution_count": 4,
   "metadata": {},
   "outputs": [
    {
     "data": {
      "text/plain": [
       "(1.0, 0.24056261216234406)"
      ]
     },
     "execution_count": 4,
     "metadata": {},
     "output_type": "execute_result"
    }
   ],
   "source": [
    "# Example of computing the nLCS similarity\n",
    "nLCS(b,b), nLCS(a,b)"
   ]
  },
  {
   "cell_type": "code",
   "execution_count": 5,
   "metadata": {},
   "outputs": [],
   "source": [
    "X = np.array([a,b,c, d])"
   ]
  },
  {
   "cell_type": "code",
   "execution_count": 6,
   "metadata": {},
   "outputs": [],
   "source": [
    "X_num = convert_str_data(X)"
   ]
  },
  {
   "cell_type": "code",
   "execution_count": 7,
   "metadata": {},
   "outputs": [
    {
     "data": {
      "text/plain": [
       "array([[0.        , 0.75943739, 0.84286516, 0.58333333],\n",
       "       [0.75943739, 0.        , 1.        , 0.85566243],\n",
       "       [0.84286516, 1.        , 0.        , 0.88214887],\n",
       "       [0.58333333, 0.85566243, 0.88214887, 0.        ]])"
      ]
     },
     "execution_count": 7,
     "metadata": {},
     "output_type": "execute_result"
    }
   ],
   "source": [
    "# The distance matrix is 1-similarity\n",
    "D  = pairwise_distance(X, nLCS)\n",
    "\n",
    "D = 1-D\n",
    "D"
   ]
  },
  {
   "cell_type": "code",
   "execution_count": 8,
   "metadata": {},
   "outputs": [
    {
     "data": {
      "text/plain": [
       "array([0.75943739, 0.85566243, 0.88214887, 0.85566243])"
      ]
     },
     "execution_count": 8,
     "metadata": {},
     "output_type": "execute_result"
    }
   ],
   "source": [
    "distance_k_neighbor(D, 2)"
   ]
  },
  {
   "cell_type": "code",
   "execution_count": 10,
   "metadata": {},
   "outputs": [
    {
     "data": {
      "text/plain": [
       "(array([0, 3], dtype=int64),\n",
       " {0: array([0, 1, 2], dtype=int64), 1: array([3], dtype=int64)})"
      ]
     },
     "execution_count": 10,
     "metadata": {},
     "output_type": "execute_result"
    }
   ],
   "source": [
    "# Find the clusters and medoids using the k-medoids algorithm\n",
    "\n",
    "n_clusters = 2\n",
    "M, C = kMedoids(D, n_clusters)\n",
    "\n",
    "M, C"
   ]
  },
  {
   "cell_type": "code",
   "execution_count": 12,
   "metadata": {},
   "outputs": [
    {
     "data": {
      "text/plain": [
       "array([0.        , 0.75943739, 0.84286516, 0.        ])"
      ]
     },
     "execution_count": 12,
     "metadata": {},
     "output_type": "execute_result"
    }
   ],
   "source": [
    "# Compute the score given by the distance to the cluster medoid\n",
    "distance_clusters(D, C, M )"
   ]
  },
  {
   "cell_type": "code",
   "execution_count": 13,
   "metadata": {},
   "outputs": [
    {
     "data": {
      "text/plain": [
       "array([0.75943739, 0.85566243, 0.88214887, 0.85566243])"
      ]
     },
     "execution_count": 13,
     "metadata": {},
     "output_type": "execute_result"
    }
   ],
   "source": [
    "#compute the score given by the distance to the kth nearest neighbor\n",
    "\n",
    "distance_k_neighbor(D, 2)"
   ]
  }
 ],
 "metadata": {
  "kernelspec": {
   "display_name": "Python 3",
   "language": "python",
   "name": "python3"
  },
  "language_info": {
   "codemirror_mode": {
    "name": "ipython",
    "version": 3
   },
   "file_extension": ".py",
   "mimetype": "text/x-python",
   "name": "python",
   "nbconvert_exporter": "python",
   "pygments_lexer": "ipython3",
   "version": "3.7.3"
  }
 },
 "nbformat": 4,
 "nbformat_minor": 4
}
