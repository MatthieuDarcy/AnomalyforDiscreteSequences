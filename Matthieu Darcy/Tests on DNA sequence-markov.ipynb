{
 "cells": [
  {
   "cell_type": "code",
   "execution_count": 203,
   "metadata": {},
   "outputs": [],
   "source": [
    "import numpy as np\n",
    "\n",
    "import pandas as pd\n",
    "\n",
    "from sklearn.model_selection import train_test_split\n",
    "from importlib import reload"
   ]
  },
  {
   "cell_type": "code",
   "execution_count": 204,
   "metadata": {},
   "outputs": [],
   "source": [
    "from Kmedoids import kMedoids\n",
    "from helper_functions import pairwise_distance, nLCS\n",
    "from score_distance import distance_k_neighbor, distance_clusters\n",
    "\n",
    "import matplotlib.pyplot as plt"
   ]
  },
  {
   "cell_type": "markdown",
   "metadata": {},
   "source": [
    "# Importing the data\n",
    "\n",
    "We creat two data sets: one with dog genes from family 0, the other from family 1. We will train on family 0 and test on a mix of family 0 and 1 (the goal will be to find the outliers from family 1)."
   ]
  },
  {
   "cell_type": "code",
   "execution_count": 210,
   "metadata": {},
   "outputs": [],
   "source": [
    "df_dog = pd.read_csv('data\\dog_data.txt', delimiter= '\\t')"
   ]
  },
  {
   "cell_type": "code",
   "execution_count": 211,
   "metadata": {},
   "outputs": [
    {
     "data": {
      "text/html": [
       "<div>\n",
       "<style scoped>\n",
       "    .dataframe tbody tr th:only-of-type {\n",
       "        vertical-align: middle;\n",
       "    }\n",
       "\n",
       "    .dataframe tbody tr th {\n",
       "        vertical-align: top;\n",
       "    }\n",
       "\n",
       "    .dataframe thead th {\n",
       "        text-align: right;\n",
       "    }\n",
       "</style>\n",
       "<table border=\"1\" class=\"dataframe\">\n",
       "  <thead>\n",
       "    <tr style=\"text-align: right;\">\n",
       "      <th></th>\n",
       "      <th>sequence</th>\n",
       "      <th>class</th>\n",
       "    </tr>\n",
       "  </thead>\n",
       "  <tbody>\n",
       "    <tr>\n",
       "      <th>0</th>\n",
       "      <td>ATGCCACAGCTAGATACATCCACCTGATTTATTATAATCTTTTCAA...</td>\n",
       "      <td>4</td>\n",
       "    </tr>\n",
       "    <tr>\n",
       "      <th>1</th>\n",
       "      <td>ATGAACGAAAATCTATTCGCTTCTTTCGCTGCCCCCTCAATAATAG...</td>\n",
       "      <td>4</td>\n",
       "    </tr>\n",
       "    <tr>\n",
       "      <th>2</th>\n",
       "      <td>ATGGAAACACCCTTCTACGGCGATGAGGCGCTGAGCGGCCTGGGCG...</td>\n",
       "      <td>6</td>\n",
       "    </tr>\n",
       "    <tr>\n",
       "      <th>3</th>\n",
       "      <td>ATGTGCACTAAAATGGAACAGCCCTTCTACCACGACGACTCATACG...</td>\n",
       "      <td>6</td>\n",
       "    </tr>\n",
       "    <tr>\n",
       "      <th>4</th>\n",
       "      <td>ATGAGCCGGCAGCTAAACAGAAGCCAGAACTGCTCCTTCAGTGACG...</td>\n",
       "      <td>0</td>\n",
       "    </tr>\n",
       "    <tr>\n",
       "      <th>...</th>\n",
       "      <td>...</td>\n",
       "      <td>...</td>\n",
       "    </tr>\n",
       "    <tr>\n",
       "      <th>815</th>\n",
       "      <td>ATGGTCGGTCCGGAGAAGGAGCAGAGCTGGATCCCTAAGATCTTCA...</td>\n",
       "      <td>5</td>\n",
       "    </tr>\n",
       "    <tr>\n",
       "      <th>816</th>\n",
       "      <td>ATGGCGGCGACGGTGGCTGCGGCGGCCGCCGACGCGGGGCCGGGGG...</td>\n",
       "      <td>6</td>\n",
       "    </tr>\n",
       "    <tr>\n",
       "      <th>817</th>\n",
       "      <td>ATGAGCTCGGCCGACAAGGCCCGGGTGGGGCCCGCGGCCGACGGGC...</td>\n",
       "      <td>6</td>\n",
       "    </tr>\n",
       "    <tr>\n",
       "      <th>818</th>\n",
       "      <td>GCCCCGAGGATGGGCAGGGTCCCGCTGGCCTGGTGCTTGGCGCTGT...</td>\n",
       "      <td>1</td>\n",
       "    </tr>\n",
       "    <tr>\n",
       "      <th>819</th>\n",
       "      <td>ATGGCCTGGGCTCTGAAGCTGCCCCTGGCCGACGAAGTGATTGAAT...</td>\n",
       "      <td>6</td>\n",
       "    </tr>\n",
       "  </tbody>\n",
       "</table>\n",
       "<p>820 rows × 2 columns</p>\n",
       "</div>"
      ],
      "text/plain": [
       "                                              sequence  class\n",
       "0    ATGCCACAGCTAGATACATCCACCTGATTTATTATAATCTTTTCAA...      4\n",
       "1    ATGAACGAAAATCTATTCGCTTCTTTCGCTGCCCCCTCAATAATAG...      4\n",
       "2    ATGGAAACACCCTTCTACGGCGATGAGGCGCTGAGCGGCCTGGGCG...      6\n",
       "3    ATGTGCACTAAAATGGAACAGCCCTTCTACCACGACGACTCATACG...      6\n",
       "4    ATGAGCCGGCAGCTAAACAGAAGCCAGAACTGCTCCTTCAGTGACG...      0\n",
       "..                                                 ...    ...\n",
       "815  ATGGTCGGTCCGGAGAAGGAGCAGAGCTGGATCCCTAAGATCTTCA...      5\n",
       "816  ATGGCGGCGACGGTGGCTGCGGCGGCCGCCGACGCGGGGCCGGGGG...      6\n",
       "817  ATGAGCTCGGCCGACAAGGCCCGGGTGGGGCCCGCGGCCGACGGGC...      6\n",
       "818  GCCCCGAGGATGGGCAGGGTCCCGCTGGCCTGGTGCTTGGCGCTGT...      1\n",
       "819  ATGGCCTGGGCTCTGAAGCTGCCCCTGGCCGACGAAGTGATTGAAT...      6\n",
       "\n",
       "[820 rows x 2 columns]"
      ]
     },
     "execution_count": 211,
     "metadata": {},
     "output_type": "execute_result"
    }
   ],
   "source": [
    "df_dog"
   ]
  },
  {
   "cell_type": "code",
   "execution_count": 212,
   "metadata": {},
   "outputs": [
    {
     "data": {
      "text/html": [
       "<div>\n",
       "<style scoped>\n",
       "    .dataframe tbody tr th:only-of-type {\n",
       "        vertical-align: middle;\n",
       "    }\n",
       "\n",
       "    .dataframe tbody tr th {\n",
       "        vertical-align: top;\n",
       "    }\n",
       "\n",
       "    .dataframe thead th {\n",
       "        text-align: right;\n",
       "    }\n",
       "</style>\n",
       "<table border=\"1\" class=\"dataframe\">\n",
       "  <thead>\n",
       "    <tr style=\"text-align: right;\">\n",
       "      <th></th>\n",
       "      <th>sequence</th>\n",
       "      <th>class</th>\n",
       "    </tr>\n",
       "  </thead>\n",
       "  <tbody>\n",
       "    <tr>\n",
       "      <th>4</th>\n",
       "      <td>ATGAGCCGGCAGCTAAACAGAAGCCAGAACTGCTCCTTCAGTGACG...</td>\n",
       "      <td>0</td>\n",
       "    </tr>\n",
       "    <tr>\n",
       "      <th>6</th>\n",
       "      <td>ATGACGTCCACCTGCCCCAATAACACCAGGGAGAGCAACAGCAGCC...</td>\n",
       "      <td>0</td>\n",
       "    </tr>\n",
       "    <tr>\n",
       "      <th>7</th>\n",
       "      <td>ATGGCCAACTCCACAGGGCTGACCACCTCGGAAGTCGTGGGCTCGG...</td>\n",
       "      <td>0</td>\n",
       "    </tr>\n",
       "    <tr>\n",
       "      <th>8</th>\n",
       "      <td>ATGGCGAACTATAGCCATGCAGCTGACAACATTTTACAAAATCTTT...</td>\n",
       "      <td>0</td>\n",
       "    </tr>\n",
       "    <tr>\n",
       "      <th>9</th>\n",
       "      <td>ATGACCACTCCTCACAATCAAGCTCAACCTGGCCCTTCCAACAATT...</td>\n",
       "      <td>0</td>\n",
       "    </tr>\n",
       "    <tr>\n",
       "      <th>...</th>\n",
       "      <td>...</td>\n",
       "      <td>...</td>\n",
       "    </tr>\n",
       "    <tr>\n",
       "      <th>785</th>\n",
       "      <td>ATTCTGAGTAACAACAAAATATCCGAGCTGAAGAATGGCTCATTTT...</td>\n",
       "      <td>0</td>\n",
       "    </tr>\n",
       "    <tr>\n",
       "      <th>786</th>\n",
       "      <td>ATGGAGAGTAACCTGTCTGGCCTGGTGCCTGCTGCTGGGCTGGTGC...</td>\n",
       "      <td>0</td>\n",
       "    </tr>\n",
       "    <tr>\n",
       "      <th>787</th>\n",
       "      <td>CTCAGAGTGCGGGGCCCAGGGCCCAGGCAGGCTGCCTGTGCCTCTC...</td>\n",
       "      <td>0</td>\n",
       "    </tr>\n",
       "    <tr>\n",
       "      <th>798</th>\n",
       "      <td>ATGTTTCAATATGAAGAAAGCAATGTTACTCAGAATCAAAATATGG...</td>\n",
       "      <td>0</td>\n",
       "    </tr>\n",
       "    <tr>\n",
       "      <th>806</th>\n",
       "      <td>ATGGGCCGGCGCGGGGCGCTGCTCTGCCTCCTCCCGCTGCTGCGCG...</td>\n",
       "      <td>0</td>\n",
       "    </tr>\n",
       "  </tbody>\n",
       "</table>\n",
       "<p>131 rows × 2 columns</p>\n",
       "</div>"
      ],
      "text/plain": [
       "                                              sequence  class\n",
       "4    ATGAGCCGGCAGCTAAACAGAAGCCAGAACTGCTCCTTCAGTGACG...      0\n",
       "6    ATGACGTCCACCTGCCCCAATAACACCAGGGAGAGCAACAGCAGCC...      0\n",
       "7    ATGGCCAACTCCACAGGGCTGACCACCTCGGAAGTCGTGGGCTCGG...      0\n",
       "8    ATGGCGAACTATAGCCATGCAGCTGACAACATTTTACAAAATCTTT...      0\n",
       "9    ATGACCACTCCTCACAATCAAGCTCAACCTGGCCCTTCCAACAATT...      0\n",
       "..                                                 ...    ...\n",
       "785  ATTCTGAGTAACAACAAAATATCCGAGCTGAAGAATGGCTCATTTT...      0\n",
       "786  ATGGAGAGTAACCTGTCTGGCCTGGTGCCTGCTGCTGGGCTGGTGC...      0\n",
       "787  CTCAGAGTGCGGGGCCCAGGGCCCAGGCAGGCTGCCTGTGCCTCTC...      0\n",
       "798  ATGTTTCAATATGAAGAAAGCAATGTTACTCAGAATCAAAATATGG...      0\n",
       "806  ATGGGCCGGCGCGGGGCGCTGCTCTGCCTCCTCCCGCTGCTGCGCG...      0\n",
       "\n",
       "[131 rows x 2 columns]"
      ]
     },
     "execution_count": 212,
     "metadata": {},
     "output_type": "execute_result"
    }
   ],
   "source": [
    "dog_0= df_dog[df_dog[\"class\"]== 0]\n",
    "dog_0"
   ]
  },
  {
   "cell_type": "code",
   "execution_count": 213,
   "metadata": {},
   "outputs": [
    {
     "data": {
      "text/html": [
       "<div>\n",
       "<style scoped>\n",
       "    .dataframe tbody tr th:only-of-type {\n",
       "        vertical-align: middle;\n",
       "    }\n",
       "\n",
       "    .dataframe tbody tr th {\n",
       "        vertical-align: top;\n",
       "    }\n",
       "\n",
       "    .dataframe thead th {\n",
       "        text-align: right;\n",
       "    }\n",
       "</style>\n",
       "<table border=\"1\" class=\"dataframe\">\n",
       "  <thead>\n",
       "    <tr style=\"text-align: right;\">\n",
       "      <th></th>\n",
       "      <th>sequence</th>\n",
       "      <th>class</th>\n",
       "    </tr>\n",
       "  </thead>\n",
       "  <tbody>\n",
       "    <tr>\n",
       "      <th>2</th>\n",
       "      <td>ATGGAAACACCCTTCTACGGCGATGAGGCGCTGAGCGGCCTGGGCG...</td>\n",
       "      <td>6</td>\n",
       "    </tr>\n",
       "    <tr>\n",
       "      <th>3</th>\n",
       "      <td>ATGTGCACTAAAATGGAACAGCCCTTCTACCACGACGACTCATACG...</td>\n",
       "      <td>6</td>\n",
       "    </tr>\n",
       "    <tr>\n",
       "      <th>5</th>\n",
       "      <td>ATGGAGGAGGGCTCCAGCTCGCCCGTGTCCCCCGTGGACAGCCTGG...</td>\n",
       "      <td>6</td>\n",
       "    </tr>\n",
       "    <tr>\n",
       "      <th>11</th>\n",
       "      <td>ATGAATTCTGATTCGAGCTCTGTCTCCAGCAGAGCTTCATCGCCGG...</td>\n",
       "      <td>6</td>\n",
       "    </tr>\n",
       "    <tr>\n",
       "      <th>12</th>\n",
       "      <td>ATGTCCCGCCTGCTGCACGCAGAGGAGTGGGCTGAAGTGAAGGAGT...</td>\n",
       "      <td>6</td>\n",
       "    </tr>\n",
       "    <tr>\n",
       "      <th>...</th>\n",
       "      <td>...</td>\n",
       "      <td>...</td>\n",
       "    </tr>\n",
       "    <tr>\n",
       "      <th>811</th>\n",
       "      <td>ATGGGGGAACCCCGGGCTGGGGCCCCCCTGGACGATGGCAGTGGCT...</td>\n",
       "      <td>6</td>\n",
       "    </tr>\n",
       "    <tr>\n",
       "      <th>812</th>\n",
       "      <td>ATGGGGGAACCCCGGGCTGGGGCCCCCCTGGACGATGGCAGTGGCT...</td>\n",
       "      <td>6</td>\n",
       "    </tr>\n",
       "    <tr>\n",
       "      <th>816</th>\n",
       "      <td>ATGGCGGCGACGGTGGCTGCGGCGGCCGCCGACGCGGGGCCGGGGG...</td>\n",
       "      <td>6</td>\n",
       "    </tr>\n",
       "    <tr>\n",
       "      <th>817</th>\n",
       "      <td>ATGAGCTCGGCCGACAAGGCCCGGGTGGGGCCCGCGGCCGACGGGC...</td>\n",
       "      <td>6</td>\n",
       "    </tr>\n",
       "    <tr>\n",
       "      <th>819</th>\n",
       "      <td>ATGGCCTGGGCTCTGAAGCTGCCCCTGGCCGACGAAGTGATTGAAT...</td>\n",
       "      <td>6</td>\n",
       "    </tr>\n",
       "  </tbody>\n",
       "</table>\n",
       "<p>260 rows × 2 columns</p>\n",
       "</div>"
      ],
      "text/plain": [
       "                                              sequence  class\n",
       "2    ATGGAAACACCCTTCTACGGCGATGAGGCGCTGAGCGGCCTGGGCG...      6\n",
       "3    ATGTGCACTAAAATGGAACAGCCCTTCTACCACGACGACTCATACG...      6\n",
       "5    ATGGAGGAGGGCTCCAGCTCGCCCGTGTCCCCCGTGGACAGCCTGG...      6\n",
       "11   ATGAATTCTGATTCGAGCTCTGTCTCCAGCAGAGCTTCATCGCCGG...      6\n",
       "12   ATGTCCCGCCTGCTGCACGCAGAGGAGTGGGCTGAAGTGAAGGAGT...      6\n",
       "..                                                 ...    ...\n",
       "811  ATGGGGGAACCCCGGGCTGGGGCCCCCCTGGACGATGGCAGTGGCT...      6\n",
       "812  ATGGGGGAACCCCGGGCTGGGGCCCCCCTGGACGATGGCAGTGGCT...      6\n",
       "816  ATGGCGGCGACGGTGGCTGCGGCGGCCGCCGACGCGGGGCCGGGGG...      6\n",
       "817  ATGAGCTCGGCCGACAAGGCCCGGGTGGGGCCCGCGGCCGACGGGC...      6\n",
       "819  ATGGCCTGGGCTCTGAAGCTGCCCCTGGCCGACGAAGTGATTGAAT...      6\n",
       "\n",
       "[260 rows x 2 columns]"
      ]
     },
     "execution_count": 213,
     "metadata": {},
     "output_type": "execute_result"
    }
   ],
   "source": [
    "dog_1= df_dog[df_dog[\"class\"]== 6]\n",
    "dog_1"
   ]
  },
  {
   "cell_type": "code",
   "execution_count": 214,
   "metadata": {},
   "outputs": [],
   "source": [
    "dog_0_np = dog_0[\"sequence\"].to_numpy()\n",
    "dog_1_np = dog_1[\"sequence\"].to_numpy()"
   ]
  },
  {
   "cell_type": "code",
   "execution_count": 215,
   "metadata": {},
   "outputs": [
    {
     "data": {
      "text/plain": [
       "((131,), (131,))"
      ]
     },
     "execution_count": 215,
     "metadata": {},
     "output_type": "execute_result"
    }
   ],
   "source": [
    "np.unique(dog_0_np).shape, dog_0_np.shape"
   ]
  },
  {
   "cell_type": "code",
   "execution_count": 216,
   "metadata": {},
   "outputs": [
    {
     "data": {
      "text/plain": [
       "((259,), (260,))"
      ]
     },
     "execution_count": 216,
     "metadata": {},
     "output_type": "execute_result"
    }
   ],
   "source": [
    "np.unique(dog_1_np).shape, dog_1_np.shape"
   ]
  },
  {
   "cell_type": "code",
   "execution_count": 217,
   "metadata": {},
   "outputs": [],
   "source": [
    "dog_1_np = np.unique(dog_1_np)"
   ]
  },
  {
   "cell_type": "markdown",
   "metadata": {},
   "source": [
    "Generating a train and test dataset from the 0 class. Also we select 20 abnormal elements from class 1."
   ]
  },
  {
   "cell_type": "code",
   "execution_count": 221,
   "metadata": {},
   "outputs": [],
   "source": [
    "train, test_normal = train_test_split(dog_0_np, test_size = 0.2, shuffle = True, random_state = 0)"
   ]
  },
  {
   "cell_type": "code",
   "execution_count": 222,
   "metadata": {},
   "outputs": [
    {
     "data": {
      "text/plain": [
       "((27,), (104,))"
      ]
     },
     "execution_count": 222,
     "metadata": {},
     "output_type": "execute_result"
    }
   ],
   "source": [
    "test_normal.shape, train.shape"
   ]
  },
  {
   "cell_type": "code",
   "execution_count": 224,
   "metadata": {},
   "outputs": [
    {
     "data": {
      "text/plain": [
       "(20,)"
      ]
     },
     "execution_count": 224,
     "metadata": {},
     "output_type": "execute_result"
    }
   ],
   "source": [
    "np.random.seed(0)\n",
    "np.random.shuffle(dog_1_np)\n",
    "test_abnormal = dog_1_np[:20]\n",
    "test_abnormal.shape"
   ]
  },
  {
   "cell_type": "markdown",
   "metadata": {},
   "source": [
    "# Applying Makov based methods"
   ]
  },
  {
   "cell_type": "code",
   "execution_count": 225,
   "metadata": {},
   "outputs": [],
   "source": [
    "import markov_chain\n",
    "markov_chain = reload(markov_chain)\n",
    "from markov_chain import compute_markov_chain, compute_probability"
   ]
  },
  {
   "cell_type": "code",
   "execution_count": 226,
   "metadata": {},
   "outputs": [
    {
     "data": {
      "text/plain": [
       "array(['C', 'G', 'T', 'A', 'N'], dtype='<U1')"
      ]
     },
     "execution_count": 226,
     "metadata": {},
     "output_type": "execute_result"
    }
   ],
   "source": [
    "A"
   ]
  },
  {
   "cell_type": "code",
   "execution_count": 227,
   "metadata": {},
   "outputs": [],
   "source": [
    "Q, P = compute_markov_chain(A, train)"
   ]
  },
  {
   "cell_type": "code",
   "execution_count": 228,
   "metadata": {},
   "outputs": [
    {
     "data": {
      "text/plain": [
       "(1.0, array([1., 1., 1., 1., 1.]))"
      ]
     },
     "execution_count": 228,
     "metadata": {},
     "output_type": "execute_result"
    }
   ],
   "source": [
    "np.sum(Q), np.sum(P, axis = 0)"
   ]
  },
  {
   "cell_type": "code",
   "execution_count": 73,
   "metadata": {},
   "outputs": [
    {
     "data": {
      "text/plain": [
       "array([0.29642817, 0.29133091, 0.18190847, 0.22978899, 0.        ])"
      ]
     },
     "execution_count": 73,
     "metadata": {},
     "output_type": "execute_result"
    }
   ],
   "source": [
    "P[:, 1]"
   ]
  },
  {
   "cell_type": "code",
   "execution_count": 230,
   "metadata": {},
   "outputs": [
    {
     "data": {
      "text/plain": [
       "'ATG'"
      ]
     },
     "execution_count": 230,
     "metadata": {},
     "output_type": "execute_result"
    }
   ],
   "source": [
    "test_normal[0][:3]"
   ]
  },
  {
   "cell_type": "code",
   "execution_count": 231,
   "metadata": {},
   "outputs": [
    {
     "data": {
      "text/plain": [
       "array([0.01727572])"
      ]
     },
     "execution_count": 231,
     "metadata": {},
     "output_type": "execute_result"
    }
   ],
   "source": [
    "Q[3]*P[2,3]*P[1,2]"
   ]
  },
  {
   "cell_type": "code",
   "execution_count": 232,
   "metadata": {},
   "outputs": [
    {
     "data": {
      "text/plain": [
       "((27,), (5,), (5, 1))"
      ]
     },
     "execution_count": 232,
     "metadata": {},
     "output_type": "execute_result"
    }
   ],
   "source": [
    "test_normal.shape, A.shape, Q.shape"
   ]
  },
  {
   "cell_type": "code",
   "execution_count": 233,
   "metadata": {},
   "outputs": [],
   "source": [
    "prob_normal = compute_probability(test_normal, A, Q, P)"
   ]
  },
  {
   "cell_type": "code",
   "execution_count": 234,
   "metadata": {},
   "outputs": [
    {
     "data": {
      "text/plain": [
       "array([0., 0., 0., 0., 0., 0., 0., 0., 0., 0., 0., 0., 0., 0., 0., 0., 0.,\n",
       "       0., 0., 0., 0., 0., 0., 0., 0., 0., 0.])"
      ]
     },
     "execution_count": 234,
     "metadata": {},
     "output_type": "execute_result"
    }
   ],
   "source": [
    "# Observe that the probabilities are all 0\n",
    "prob_normal"
   ]
  },
  {
   "cell_type": "code",
   "execution_count": 235,
   "metadata": {},
   "outputs": [
    {
     "data": {
      "text/plain": [
       "array([0.00000000e+000, 0.00000000e+000, 0.00000000e+000, 0.00000000e+000,\n",
       "       0.00000000e+000, 0.00000000e+000, 0.00000000e+000, 0.00000000e+000,\n",
       "       0.00000000e+000, 0.00000000e+000, 3.17631669e-314, 0.00000000e+000,\n",
       "       0.00000000e+000, 0.00000000e+000, 0.00000000e+000, 0.00000000e+000,\n",
       "       0.00000000e+000, 0.00000000e+000, 0.00000000e+000, 0.00000000e+000])"
      ]
     },
     "execution_count": 235,
     "metadata": {},
     "output_type": "execute_result"
    }
   ],
   "source": [
    "prob_abnormal = compute_probability(test_abnormal, A, Q, P)\n",
    "prob_abnormal"
   ]
  },
  {
   "cell_type": "markdown",
   "metadata": {},
   "source": [
    "# Applying window based method"
   ]
  },
  {
   "cell_type": "code",
   "execution_count": 284,
   "metadata": {},
   "outputs": [],
   "source": [
    "def compute_window_prob(X_test, n, A ,Q, P):\n",
    "    final_score = []\n",
    "    for sequence in X_test:\n",
    "        score = 0\n",
    "        j = 0\n",
    "        for i in range(0, len(sequence)-n):\n",
    "            #print(np.array([sequence[i:i+n]]), len(sequence[i:i+n]))\n",
    "            score += compute_probability(np.array([sequence[i:i+n]]), A, Q, P)\n",
    "            j +=1\n",
    "        \n",
    "        final_score.append(score[0]/j)\n",
    "    return np.array(final_score)\n",
    "            \n",
    "        "
   ]
  },
  {
   "cell_type": "code",
   "execution_count": 285,
   "metadata": {},
   "outputs": [],
   "source": [
    "scores_normal = compute_window_prob(test_normal, 50, A, Q, P)"
   ]
  },
  {
   "cell_type": "code",
   "execution_count": 286,
   "metadata": {},
   "outputs": [],
   "source": [
    "scores_abnormal = compute_window_prob(test_abnormal, 50, A, Q, P)"
   ]
  },
  {
   "cell_type": "code",
   "execution_count": 287,
   "metadata": {},
   "outputs": [
    {
     "data": {
      "text/plain": [
       "((27,), (20,))"
      ]
     },
     "execution_count": 287,
     "metadata": {},
     "output_type": "execute_result"
    }
   ],
   "source": [
    "scores_normal.shape, scores_abnormal.shape"
   ]
  },
  {
   "cell_type": "code",
   "execution_count": 288,
   "metadata": {},
   "outputs": [],
   "source": [
    "# Computing all the scores:\n",
    "labels = np.zeros(scores_normal.shape[0]+ scores_abnormal.shape[0])\n",
    "labels[scores_normal.shape[0]: ] = 1\n",
    "scores = np.hstack((scores_normal, scores_abnormal))\n",
    "scores = np.vstack((scores, labels)).T"
   ]
  },
  {
   "cell_type": "code",
   "execution_count": 289,
   "metadata": {},
   "outputs": [],
   "source": [
    "scores_sorted = scores[scores[:, 0].argsort()]"
   ]
  },
  {
   "cell_type": "code",
   "execution_count": 290,
   "metadata": {},
   "outputs": [
    {
     "data": {
      "text/plain": [
       "array([[1.61048278e-30, 0.00000000e+00],\n",
       "       [1.78107084e-30, 1.00000000e+00],\n",
       "       [1.98250266e-30, 1.00000000e+00],\n",
       "       [2.75617758e-30, 1.00000000e+00],\n",
       "       [3.20806655e-30, 1.00000000e+00],\n",
       "       [4.00941205e-30, 0.00000000e+00],\n",
       "       [4.48021227e-30, 0.00000000e+00],\n",
       "       [4.77608016e-30, 0.00000000e+00],\n",
       "       [4.97828994e-30, 1.00000000e+00],\n",
       "       [5.45760859e-30, 1.00000000e+00],\n",
       "       [5.51604361e-30, 0.00000000e+00],\n",
       "       [6.12692601e-30, 0.00000000e+00],\n",
       "       [6.18323784e-30, 1.00000000e+00],\n",
       "       [7.25819374e-30, 0.00000000e+00],\n",
       "       [7.31477794e-30, 0.00000000e+00],\n",
       "       [7.70027315e-30, 1.00000000e+00],\n",
       "       [7.89108624e-30, 1.00000000e+00],\n",
       "       [9.00712710e-30, 0.00000000e+00],\n",
       "       [9.47530516e-30, 0.00000000e+00],\n",
       "       [1.12806827e-29, 1.00000000e+00],\n",
       "       [1.22214079e-29, 0.00000000e+00],\n",
       "       [1.22473849e-29, 1.00000000e+00],\n",
       "       [1.30399080e-29, 0.00000000e+00],\n",
       "       [1.46112673e-29, 0.00000000e+00],\n",
       "       [1.46843662e-29, 1.00000000e+00],\n",
       "       [1.48544731e-29, 1.00000000e+00],\n",
       "       [2.02124880e-29, 0.00000000e+00],\n",
       "       [2.21680871e-29, 0.00000000e+00],\n",
       "       [2.37680697e-29, 0.00000000e+00],\n",
       "       [2.44878378e-29, 0.00000000e+00],\n",
       "       [2.46079906e-29, 0.00000000e+00],\n",
       "       [2.62139235e-29, 0.00000000e+00],\n",
       "       [2.86562614e-29, 1.00000000e+00],\n",
       "       [2.90840362e-29, 1.00000000e+00],\n",
       "       [2.97203522e-29, 0.00000000e+00],\n",
       "       [3.19336287e-29, 0.00000000e+00],\n",
       "       [3.76288109e-29, 1.00000000e+00],\n",
       "       [4.08695873e-29, 1.00000000e+00],\n",
       "       [4.54917412e-29, 1.00000000e+00],\n",
       "       [4.96557936e-29, 0.00000000e+00],\n",
       "       [5.13053252e-29, 0.00000000e+00],\n",
       "       [6.47872053e-29, 0.00000000e+00],\n",
       "       [7.03264058e-29, 0.00000000e+00],\n",
       "       [7.09092026e-29, 0.00000000e+00],\n",
       "       [8.56049843e-29, 1.00000000e+00],\n",
       "       [1.03633553e-28, 0.00000000e+00],\n",
       "       [2.13658767e-28, 1.00000000e+00]])"
      ]
     },
     "execution_count": 290,
     "metadata": {},
     "output_type": "execute_result"
    }
   ],
   "source": [
    "scores_sorted"
   ]
  },
  {
   "cell_type": "code",
   "execution_count": 291,
   "metadata": {},
   "outputs": [
    {
     "data": {
      "text/plain": [
       "(27,)"
      ]
     },
     "execution_count": 291,
     "metadata": {},
     "output_type": "execute_result"
    }
   ],
   "source": [
    "np.where(scores[:,  1] == 0)[0].shape"
   ]
  },
  {
   "cell_type": "code",
   "execution_count": 292,
   "metadata": {},
   "outputs": [
    {
     "data": {
      "text/plain": [
       "<matplotlib.legend.Legend at 0x27fc886b898>"
      ]
     },
     "execution_count": 292,
     "metadata": {},
     "output_type": "execute_result"
    },
    {
     "data": {
      "image/png": "[encoded data removed]",
      "text/plain": [
       "<Figure size 720x576 with 1 Axes>"
      ]
     },
     "metadata": {
      "needs_background": "light"
     },
     "output_type": "display_data"
    }
   ],
   "source": [
    "\n",
    "plt.figure(figsize = (10,8))\n",
    "\n",
    "for i in range(scores.shape[0]):\n",
    "    if scores_sorted[i, 1] == 0:\n",
    "        c = \"blue\"\n",
    "        label = \"normal\"\n",
    "    else:\n",
    "        c = \"red\"\n",
    "        label = \"abnormal\"\n",
    "    plt.bar(i, scores_sorted[i, 0], color = c, label = label, width = 0.75)\n",
    "plt.legend(prop={'size': 20})\n",
    "plt.title(\"Normality scores for normal and abnormal sequences (lower is better)\", size = 20)\n",
    "plt.yscale(\"log\")\n",
    "handles, labels = plt.gca().get_legend_handles_labels()\n",
    "by_label = dict(zip(labels, handles))\n",
    "plt.legend(by_label.values(), by_label.keys(), prop={'size': 20})"
   ]
  },
  {
   "cell_type": "code",
   "execution_count": 295,
   "metadata": {},
   "outputs": [
    {
     "name": "stdout",
     "output_type": "stream",
     "text": [
      "The number of abnormalities found is 10\n"
     ]
    }
   ],
   "source": [
    "ab = np.where(scores_sorted[:scores_abnormal.shape[0]] == 1)[0].shape[0]\n",
    "\n",
    "print(\"The number of abnormalities found is {}\".format(ab))"
   ]
  },
  {
   "cell_type": "markdown",
   "metadata": {},
   "source": [
    "# Apply markov with large memory"
   ]
  },
  {
   "cell_type": "code",
   "execution_count": 298,
   "metadata": {},
   "outputs": [],
   "source": [
    "from itertools import permutations, combinations_with_replacement"
   ]
  },
  {
   "cell_type": "code",
   "execution_count": 311,
   "metadata": {},
   "outputs": [],
   "source": [
    "import markov_chain\n",
    "markov_chain = reload(markov_chain)\n",
    "from markov_chain import compute_markov_chain_multi, compute_probability_multi"
   ]
  },
  {
   "cell_type": "code",
   "execution_count": 327,
   "metadata": {},
   "outputs": [],
   "source": [
    "def compute_window_prob_multi(X_test, n, A, a,Q, P):\n",
    "    final_score = []\n",
    "    for sequence in X_test:\n",
    "        score = 0\n",
    "        j = 0\n",
    "        for i in range(0, len(sequence)-n):\n",
    "            #print(np.array([sequence[i:i+n]]), len(sequence[i:i+n]))\n",
    "            score += compute_probability_multi(np.array([sequence[i:i+n]]), A, a, Q, P)\n",
    "            j +=1\n",
    "        \n",
    "        final_score.append(score[0]/j)\n",
    "    return np.array(final_score)\n",
    "            \n",
    "        "
   ]
  },
  {
   "cell_type": "code",
   "execution_count": 342,
   "metadata": {},
   "outputs": [],
   "source": [
    "letters = 'CGTAN'"
   ]
  },
  {
   "cell_type": "code",
   "execution_count": 343,
   "metadata": {},
   "outputs": [],
   "source": [
    "comb = list(combinations_with_replacement(letters, 5))\n",
    "A = []\n",
    "temp = []\n",
    "for element in comb:\n",
    "    temp.append(''.join(element))\n",
    "for letter in temp:\n",
    "    for p in permutations(letter):\n",
    "        A.append(''.join(p))\n",
    "        \n",
    "A = np.unique(np.array(A))"
   ]
  },
  {
   "cell_type": "code",
   "execution_count": 344,
   "metadata": {},
   "outputs": [
    {
     "data": {
      "text/plain": [
       "((3125,), 625)"
      ]
     },
     "execution_count": 344,
     "metadata": {},
     "output_type": "execute_result"
    }
   ],
   "source": [
    "A.shape, 5**4"
   ]
  },
  {
   "cell_type": "code",
   "execution_count": 345,
   "metadata": {},
   "outputs": [
    {
     "data": {
      "text/plain": [
       "array(['C', 'G', 'T', 'A', 'N'], dtype='<U1')"
      ]
     },
     "execution_count": 345,
     "metadata": {},
     "output_type": "execute_result"
    }
   ],
   "source": [
    "alphabet = np.array(list(letters))\n",
    "alphabet"
   ]
  },
  {
   "cell_type": "code",
   "execution_count": 346,
   "metadata": {},
   "outputs": [],
   "source": [
    "Q, P = compute_markov_chain_multi(A, alphabet, train)"
   ]
  },
  {
   "cell_type": "code",
   "execution_count": 347,
   "metadata": {},
   "outputs": [
    {
     "data": {
      "text/plain": [
       "(1.0, array([1., 1., 1., ..., 1., 0., 1.]))"
      ]
     },
     "execution_count": 347,
     "metadata": {},
     "output_type": "execute_result"
    }
   ],
   "source": [
    "np.sum(Q), np.sum(P, axis = 0)"
   ]
  },
  {
   "cell_type": "code",
   "execution_count": 322,
   "metadata": {},
   "outputs": [
    {
     "data": {
      "text/plain": [
       "0.0016"
      ]
     },
     "execution_count": 322,
     "metadata": {},
     "output_type": "execute_result"
    }
   ],
   "source": [
    "1/625"
   ]
  },
  {
   "cell_type": "code",
   "execution_count": 348,
   "metadata": {},
   "outputs": [],
   "source": [
    "P[np.where(P == 0)] = 1e-5"
   ]
  },
  {
   "cell_type": "code",
   "execution_count": 349,
   "metadata": {},
   "outputs": [],
   "source": [
    "prob_normal = compute_probability_multi(test_normal, A, alphabet, Q, P)\n",
    "prob_abnormal = compute_probability_multi(test_abnormal, A, alphabet, Q, P)"
   ]
  },
  {
   "cell_type": "code",
   "execution_count": 350,
   "metadata": {},
   "outputs": [
    {
     "data": {
      "text/plain": [
       "(array([0., 0., 0., 0., 0., 0., 0., 0., 0., 0., 0., 0., 0., 0., 0., 0., 0.,\n",
       "        0., 0., 0., 0., 0., 0., 0., 0., 0., 0.]),\n",
       " array([0.00000000e+000, 0.00000000e+000, 0.00000000e+000, 0.00000000e+000,\n",
       "        0.00000000e+000, 0.00000000e+000, 0.00000000e+000, 0.00000000e+000,\n",
       "        0.00000000e+000, 0.00000000e+000, 2.65917698e-303, 0.00000000e+000,\n",
       "        0.00000000e+000, 0.00000000e+000, 0.00000000e+000, 0.00000000e+000,\n",
       "        0.00000000e+000, 0.00000000e+000, 0.00000000e+000, 0.00000000e+000]))"
      ]
     },
     "execution_count": 350,
     "metadata": {},
     "output_type": "execute_result"
    }
   ],
   "source": [
    "prob_normal, prob_abnormal"
   ]
  },
  {
   "cell_type": "code",
   "execution_count": 360,
   "metadata": {},
   "outputs": [],
   "source": [
    "scores_normal = compute_window_prob_multi(test_normal, 20, A, alphabet, Q, P)"
   ]
  },
  {
   "cell_type": "code",
   "execution_count": 361,
   "metadata": {},
   "outputs": [
    {
     "data": {
      "text/plain": [
       "array([9.86182857e-12, 2.91536182e-12, 1.32700479e-11, 5.27061404e-12,\n",
       "       5.04780405e-12, 4.92148352e-12, 2.67754013e-11, 1.06260112e-11,\n",
       "       8.98102585e-12, 2.61884961e-11, 3.17761855e-12, 9.26252705e-12,\n",
       "       6.11687602e-12, 2.34679853e-11, 1.96416149e-12, 7.08322437e-12,\n",
       "       7.12476792e-12, 1.29502221e-11, 2.01715481e-11, 6.27418752e-12,\n",
       "       3.37109502e-12, 3.45636557e-12, 1.72673002e-11, 3.42395405e-12,\n",
       "       2.86326594e-12, 1.51767372e-11, 1.23355747e-11])"
      ]
     },
     "execution_count": 361,
     "metadata": {},
     "output_type": "execute_result"
    }
   ],
   "source": [
    "scores_normal"
   ]
  },
  {
   "cell_type": "code",
   "execution_count": 362,
   "metadata": {},
   "outputs": [],
   "source": [
    "scores_abnormal = compute_window_prob_multi(test_abnormal, 20, A, alphabet, Q, P)"
   ]
  },
  {
   "cell_type": "code",
   "execution_count": 363,
   "metadata": {},
   "outputs": [
    {
     "data": {
      "text/plain": [
       "array([8.84889855e-12, 2.18720830e-12, 3.15340798e-12, 6.40925294e-12,\n",
       "       1.65021598e-12, 1.64108467e-11, 1.41783133e-11, 4.00234371e-12,\n",
       "       5.18087218e-12, 3.33882393e-12, 9.64007794e-12, 4.32108772e-11,\n",
       "       8.19994479e-12, 1.02415711e-11, 8.15748491e-12, 1.23829094e-11,\n",
       "       4.62876618e-12, 7.14861952e-12, 2.41792029e-12, 5.10160805e-12])"
      ]
     },
     "execution_count": 363,
     "metadata": {},
     "output_type": "execute_result"
    }
   ],
   "source": [
    "scores_abnormal"
   ]
  },
  {
   "cell_type": "code",
   "execution_count": 364,
   "metadata": {},
   "outputs": [],
   "source": [
    "# Computing all the scores:\n",
    "labels = np.zeros(scores_normal.shape[0]+ scores_abnormal.shape[0])\n",
    "labels[scores_normal.shape[0]: ] = 1\n",
    "scores = np.hstack((scores_normal, scores_abnormal))\n",
    "scores = np.vstack((scores, labels)).T"
   ]
  },
  {
   "cell_type": "code",
   "execution_count": 365,
   "metadata": {},
   "outputs": [],
   "source": [
    "scores_sorted = scores[scores[:, 0].argsort()]"
   ]
  },
  {
   "cell_type": "code",
   "execution_count": 366,
   "metadata": {},
   "outputs": [
    {
     "data": {
      "text/plain": [
       "<matplotlib.legend.Legend at 0x27fc8dfbd68>"
      ]
     },
     "execution_count": 366,
     "metadata": {},
     "output_type": "execute_result"
    },
    {
     "data": {
      "image/png": "[encoded data removed]",
      "text/plain": [
       "<Figure size 720x576 with 1 Axes>"
      ]
     },
     "metadata": {
      "needs_background": "light"
     },
     "output_type": "display_data"
    }
   ],
   "source": [
    "\n",
    "plt.figure(figsize = (10,8))\n",
    "\n",
    "for i in range(scores.shape[0]):\n",
    "    if scores_sorted[i, 1] == 0:\n",
    "        c = \"blue\"\n",
    "        label = \"normal\"\n",
    "    else:\n",
    "        c = \"red\"\n",
    "        label = \"abnormal\"\n",
    "    plt.bar(i, scores_sorted[i, 0], color = c, label = label, width = 0.75)\n",
    "plt.legend(prop={'size': 20})\n",
    "plt.title(\"Normality scores for normal and abnormal sequences (higher is better)\", size = 20)\n",
    "plt.yscale(\"log\")\n",
    "handles, labels = plt.gca().get_legend_handles_labels()\n",
    "by_label = dict(zip(labels, handles))\n",
    "plt.legend(by_label.values(), by_label.keys(), prop={'size': 20})"
   ]
  },
  {
   "cell_type": "code",
   "execution_count": 368,
   "metadata": {},
   "outputs": [
    {
     "name": "stdout",
     "output_type": "stream",
     "text": [
      "The number of abnormalities found is 9\n"
     ]
    }
   ],
   "source": [
    "ab = np.where(scores_sorted[:scores_abnormal.shape[0]] == 1)[0].shape[0]\n",
    "\n",
    "print(\"The number of abnormalities found is {}\".format(ab))"
   ]
  },
  {
   "cell_type": "code",
   "execution_count": 359,
   "metadata": {},
   "outputs": [
    {
     "data": {
      "text/plain": [
       "<matplotlib.legend.Legend at 0x27fc889a400>"
      ]
     },
     "execution_count": 359,
     "metadata": {},
     "output_type": "execute_result"
    },
    {
     "data": {
      "image/png": "[encoded data removed]",
      "text/plain": [
       "<Figure size 720x576 with 1 Axes>"
      ]
     },
     "metadata": {
      "needs_background": "light"
     },
     "output_type": "display_data"
    }
   ],
   "source": [
    "\n",
    "plt.figure(figsize = (10,8))\n",
    "\n",
    "for i in range(scores.shape[0]):\n",
    "    if scores_sorted[i, 1] == 0:\n",
    "        c = \"blue\"\n",
    "        label = \"normal\"\n",
    "    else:\n",
    "        c = \"red\"\n",
    "        label = \"abnormal\"\n",
    "    plt.bar(i, scores_sorted[i, 0], color = c, label = label, width = 0.75)\n",
    "plt.legend(prop={'size': 20})\n",
    "plt.title(\"Normality scores for normal and abnormal sequences (higher is better)\", size = 20)\n",
    "plt.yscale(\"log\")\n",
    "handles, labels = plt.gca().get_legend_handles_labels()\n",
    "by_label = dict(zip(labels, handles))\n",
    "plt.legend(by_label.values(), by_label.keys(), prop={'size': 20})"
   ]
  },
  {
   "cell_type": "code",
   "execution_count": 358,
   "metadata": {},
   "outputs": [
    {
     "name": "stdout",
     "output_type": "stream",
     "text": [
      "The number of abnormalities found is 9\n"
     ]
    }
   ],
   "source": [
    "ab = np.where(scores_sorted[:scores_abnormal.shape[0]] == 1)[0].shape[0]\n",
    "\n",
    "print(\"The number of abnormalities found is {}\".format(ab))"
   ]
  },
  {
   "cell_type": "markdown",
   "metadata": {},
   "source": [
    "# Apply markov with large memory"
   ]
  },
  {
   "cell_type": "code",
   "execution_count": 369,
   "metadata": {},
   "outputs": [],
   "source": [
    "from itertools import permutations, combinations_with_replacement"
   ]
  },
  {
   "cell_type": "code",
   "execution_count": 370,
   "metadata": {},
   "outputs": [],
   "source": [
    "import markov_chain\n",
    "markov_chain = reload(markov_chain)\n",
    "from markov_chain import compute_markov_chain_multi, compute_probability_multi"
   ]
  },
  {
   "cell_type": "code",
   "execution_count": 371,
   "metadata": {},
   "outputs": [],
   "source": [
    "def compute_window_prob_multi(X_test, n, A, a,Q, P):\n",
    "    final_score = []\n",
    "    for sequence in X_test:\n",
    "        score = 0\n",
    "        j = 0\n",
    "        for i in range(0, len(sequence)-n):\n",
    "            #print(np.array([sequence[i:i+n]]), len(sequence[i:i+n]))\n",
    "            score += compute_probability_multi(np.array([sequence[i:i+n]]), A, a, Q, P)\n",
    "            j +=1\n",
    "        \n",
    "        final_score.append(score[0]/j)\n",
    "    return np.array(final_score)\n",
    "            \n",
    "        "
   ]
  },
  {
   "cell_type": "code",
   "execution_count": 372,
   "metadata": {},
   "outputs": [],
   "source": [
    "letters = 'CGTAN'"
   ]
  },
  {
   "cell_type": "code",
   "execution_count": 373,
   "metadata": {},
   "outputs": [],
   "source": [
    "comb = list(combinations_with_replacement(letters, 6))\n",
    "A = []\n",
    "temp = []\n",
    "for element in comb:\n",
    "    temp.append(''.join(element))\n",
    "for letter in temp:\n",
    "    for p in permutations(letter):\n",
    "        A.append(''.join(p))\n",
    "        \n",
    "A = np.unique(np.array(A))"
   ]
  },
  {
   "cell_type": "code",
   "execution_count": 375,
   "metadata": {},
   "outputs": [
    {
     "data": {
      "text/plain": [
       "((15625,), 1296)"
      ]
     },
     "execution_count": 375,
     "metadata": {},
     "output_type": "execute_result"
    }
   ],
   "source": [
    "A.shape, 6**4"
   ]
  },
  {
   "cell_type": "code",
   "execution_count": 376,
   "metadata": {},
   "outputs": [
    {
     "data": {
      "text/plain": [
       "array(['C', 'G', 'T', 'A', 'N'], dtype='<U1')"
      ]
     },
     "execution_count": 376,
     "metadata": {},
     "output_type": "execute_result"
    }
   ],
   "source": [
    "alphabet = np.array(list(letters))\n",
    "alphabet"
   ]
  },
  {
   "cell_type": "code",
   "execution_count": 377,
   "metadata": {},
   "outputs": [],
   "source": [
    "Q, P = compute_markov_chain_multi(A, alphabet, train)"
   ]
  },
  {
   "cell_type": "code",
   "execution_count": 378,
   "metadata": {},
   "outputs": [
    {
     "data": {
      "text/plain": [
       "(1.0, array([1., 1., 1., ..., 1., 0., 1.]))"
      ]
     },
     "execution_count": 378,
     "metadata": {},
     "output_type": "execute_result"
    }
   ],
   "source": [
    "np.sum(Q), np.sum(P, axis = 0)"
   ]
  },
  {
   "cell_type": "code",
   "execution_count": 379,
   "metadata": {},
   "outputs": [
    {
     "data": {
      "text/plain": [
       "0.0016"
      ]
     },
     "execution_count": 379,
     "metadata": {},
     "output_type": "execute_result"
    }
   ],
   "source": [
    "1/625"
   ]
  },
  {
   "cell_type": "code",
   "execution_count": 380,
   "metadata": {},
   "outputs": [],
   "source": [
    "P[np.where(P == 0)] = 1e-5"
   ]
  },
  {
   "cell_type": "code",
   "execution_count": 381,
   "metadata": {},
   "outputs": [],
   "source": [
    "prob_normal = compute_probability_multi(test_normal, A, alphabet, Q, P)\n",
    "prob_abnormal = compute_probability_multi(test_abnormal, A, alphabet, Q, P)"
   ]
  },
  {
   "cell_type": "code",
   "execution_count": 382,
   "metadata": {},
   "outputs": [
    {
     "data": {
      "text/plain": [
       "(array([0., 0., 0., 0., 0., 0., 0., 0., 0., 0., 0., 0., 0., 0., 0., 0., 0.,\n",
       "        0., 0., 0., 0., 0., 0., 0., 0., 0., 0.]),\n",
       " array([0.00000000e+000, 0.00000000e+000, 0.00000000e+000, 0.00000000e+000,\n",
       "        0.00000000e+000, 0.00000000e+000, 0.00000000e+000, 0.00000000e+000,\n",
       "        0.00000000e+000, 0.00000000e+000, 3.92380555e-310, 0.00000000e+000,\n",
       "        0.00000000e+000, 0.00000000e+000, 0.00000000e+000, 0.00000000e+000,\n",
       "        0.00000000e+000, 0.00000000e+000, 0.00000000e+000, 0.00000000e+000]))"
      ]
     },
     "execution_count": 382,
     "metadata": {},
     "output_type": "execute_result"
    }
   ],
   "source": [
    "prob_normal, prob_abnormal"
   ]
  },
  {
   "cell_type": "code",
   "execution_count": 383,
   "metadata": {},
   "outputs": [],
   "source": [
    "scores_normal = compute_window_prob_multi(test_normal, 20, A, alphabet, Q, P)"
   ]
  },
  {
   "cell_type": "code",
   "execution_count": 384,
   "metadata": {},
   "outputs": [
    {
     "data": {
      "text/plain": [
       "array([1.27307478e-11, 3.31100892e-12, 2.08266707e-11, 7.65765812e-12,\n",
       "       7.87406643e-12, 6.12056885e-12, 1.08104234e-10, 2.02456189e-11,\n",
       "       1.55503757e-11, 6.76024236e-11, 4.45560011e-12, 1.60060064e-11,\n",
       "       8.67168566e-12, 3.82927106e-11, 1.90545578e-12, 1.56624790e-11,\n",
       "       1.13911813e-11, 2.11390038e-11, 3.59824054e-11, 8.55495182e-12,\n",
       "       4.26094062e-12, 7.14971148e-12, 3.29009856e-11, 3.93641273e-12,\n",
       "       2.96801607e-12, 2.91344649e-11, 2.18269985e-11])"
      ]
     },
     "execution_count": 384,
     "metadata": {},
     "output_type": "execute_result"
    }
   ],
   "source": [
    "scores_normal"
   ]
  },
  {
   "cell_type": "code",
   "execution_count": 385,
   "metadata": {},
   "outputs": [],
   "source": [
    "scores_abnormal = compute_window_prob_multi(test_abnormal, 20, A, alphabet, Q, P)"
   ]
  },
  {
   "cell_type": "code",
   "execution_count": 386,
   "metadata": {},
   "outputs": [
    {
     "data": {
      "text/plain": [
       "array([1.22006750e-11, 2.65512730e-12, 3.50075222e-12, 1.51649792e-11,\n",
       "       2.25863619e-12, 1.18819372e-10, 1.98284660e-11, 9.03066098e-12,\n",
       "       7.31018029e-12, 3.70888366e-12, 1.62164251e-11, 5.58715899e-10,\n",
       "       1.28862716e-11, 2.08328387e-11, 1.24379532e-11, 3.95253146e-11,\n",
       "       5.38974484e-12, 5.06867114e-12, 2.85384194e-12, 7.82475311e-12])"
      ]
     },
     "execution_count": 386,
     "metadata": {},
     "output_type": "execute_result"
    }
   ],
   "source": [
    "scores_abnormal"
   ]
  },
  {
   "cell_type": "code",
   "execution_count": 387,
   "metadata": {},
   "outputs": [],
   "source": [
    "# Computing all the scores:\n",
    "labels = np.zeros(scores_normal.shape[0]+ scores_abnormal.shape[0])\n",
    "labels[scores_normal.shape[0]: ] = 1\n",
    "scores = np.hstack((scores_normal, scores_abnormal))\n",
    "scores = np.vstack((scores, labels)).T"
   ]
  },
  {
   "cell_type": "code",
   "execution_count": 388,
   "metadata": {},
   "outputs": [],
   "source": [
    "scores_sorted = scores[scores[:, 0].argsort()]"
   ]
  },
  {
   "cell_type": "code",
   "execution_count": 389,
   "metadata": {},
   "outputs": [
    {
     "data": {
      "text/plain": [
       "<matplotlib.legend.Legend at 0x27fc9598f28>"
      ]
     },
     "execution_count": 389,
     "metadata": {},
     "output_type": "execute_result"
    },
    {
     "data": {
      "image/png": "[encoded data removed]",
      "text/plain": [
       "<Figure size 720x576 with 1 Axes>"
      ]
     },
     "metadata": {
      "needs_background": "light"
     },
     "output_type": "display_data"
    }
   ],
   "source": [
    "\n",
    "plt.figure(figsize = (10,8))\n",
    "\n",
    "for i in range(scores.shape[0]):\n",
    "    if scores_sorted[i, 1] == 0:\n",
    "        c = \"blue\"\n",
    "        label = \"normal\"\n",
    "    else:\n",
    "        c = \"red\"\n",
    "        label = \"abnormal\"\n",
    "    plt.bar(i, scores_sorted[i, 0], color = c, label = label, width = 0.75)\n",
    "plt.legend(prop={'size': 20})\n",
    "plt.title(\"Normality scores for normal and abnormal sequences (higher is better)\", size = 20)\n",
    "plt.yscale(\"log\")\n",
    "handles, labels = plt.gca().get_legend_handles_labels()\n",
    "by_label = dict(zip(labels, handles))\n",
    "plt.legend(by_label.values(), by_label.keys(), prop={'size': 20})"
   ]
  },
  {
   "cell_type": "code",
   "execution_count": 390,
   "metadata": {},
   "outputs": [
    {
     "name": "stdout",
     "output_type": "stream",
     "text": [
      "The number of abnormalities found is 9\n"
     ]
    }
   ],
   "source": [
    "ab = np.where(scores_sorted[:scores_abnormal.shape[0]] == 1)[0].shape[0]\n",
    "\n",
    "print(\"The number of abnormalities found is {}\".format(ab))"
   ]
  },
  {
   "cell_type": "code",
   "execution_count": null,
   "metadata": {},
   "outputs": [],
   "source": []
  },
  {
   "cell_type": "code",
   "execution_count": null,
   "metadata": {},
   "outputs": [],
   "source": []
  }
 ],
 "metadata": {
  "kernelspec": {
   "display_name": "Python 3",
   "language": "python",
   "name": "python3"
  },
  "language_info": {
   "codemirror_mode": {
    "name": "ipython",
    "version": 3
   },
   "file_extension": ".py",
   "mimetype": "text/x-python",
   "name": "python",
   "nbconvert_exporter": "python",
   "pygments_lexer": "ipython3",
   "version": "3.7.3"
  }
 },
 "nbformat": 4,
 "nbformat_minor": 4
}
