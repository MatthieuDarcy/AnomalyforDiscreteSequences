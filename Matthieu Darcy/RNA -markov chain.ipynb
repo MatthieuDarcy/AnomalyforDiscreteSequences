{
 "cells": [
  {
   "cell_type": "code",
   "execution_count": 251,
   "metadata": {},
   "outputs": [],
   "source": [
    "import numpy as np\n",
    "\n",
    "import pandas as pd\n",
    "\n",
    "from sklearn.model_selection import train_test_split\n",
    "\n",
    "import matplotlib.pyplot as plt"
   ]
  },
  {
   "cell_type": "code",
   "execution_count": 252,
   "metadata": {},
   "outputs": [],
   "source": [
    "df = pd.read_csv('data\\Breast_cancer.csv')"
   ]
  },
  {
   "cell_type": "code",
   "execution_count": 253,
   "metadata": {},
   "outputs": [
    {
     "data": {
      "text/html": [
       "<div>\n",
       "<style scoped>\n",
       "    .dataframe tbody tr th:only-of-type {\n",
       "        vertical-align: middle;\n",
       "    }\n",
       "\n",
       "    .dataframe tbody tr th {\n",
       "        vertical-align: top;\n",
       "    }\n",
       "\n",
       "    .dataframe thead th {\n",
       "        text-align: right;\n",
       "    }\n",
       "</style>\n",
       "<table border=\"1\" class=\"dataframe\">\n",
       "  <thead>\n",
       "    <tr style=\"text-align: right;\">\n",
       "      <th></th>\n",
       "      <th>ID</th>\n",
       "      <th>sequence</th>\n",
       "      <th>class</th>\n",
       "    </tr>\n",
       "  </thead>\n",
       "  <tbody>\n",
       "    <tr>\n",
       "      <th>0</th>\n",
       "      <td>1</td>\n",
       "      <td>AAWKWAWAKKWAKAKKWAKAA</td>\n",
       "      <td>mod. active</td>\n",
       "    </tr>\n",
       "    <tr>\n",
       "      <th>1</th>\n",
       "      <td>2</td>\n",
       "      <td>AIGKFLHSAKKFGKAFVGEIMNS</td>\n",
       "      <td>mod. active</td>\n",
       "    </tr>\n",
       "    <tr>\n",
       "      <th>2</th>\n",
       "      <td>3</td>\n",
       "      <td>AWKKWAKAWKWAKAKWWAKAA</td>\n",
       "      <td>mod. active</td>\n",
       "    </tr>\n",
       "    <tr>\n",
       "      <th>3</th>\n",
       "      <td>4</td>\n",
       "      <td>ESFSDWWKLLAE</td>\n",
       "      <td>mod. active</td>\n",
       "    </tr>\n",
       "    <tr>\n",
       "      <th>4</th>\n",
       "      <td>5</td>\n",
       "      <td>ETFADWWKLLAE</td>\n",
       "      <td>mod. active</td>\n",
       "    </tr>\n",
       "    <tr>\n",
       "      <th>...</th>\n",
       "      <td>...</td>\n",
       "      <td>...</td>\n",
       "      <td>...</td>\n",
       "    </tr>\n",
       "    <tr>\n",
       "      <th>944</th>\n",
       "      <td>945</td>\n",
       "      <td>YLDKEVKLIKKMGNHLTNLRRVA</td>\n",
       "      <td>inactive - virtual</td>\n",
       "    </tr>\n",
       "    <tr>\n",
       "      <th>945</th>\n",
       "      <td>946</td>\n",
       "      <td>YLSESVETIKKLGDHITSLKKLW</td>\n",
       "      <td>inactive - virtual</td>\n",
       "    </tr>\n",
       "    <tr>\n",
       "      <th>946</th>\n",
       "      <td>947</td>\n",
       "      <td>YPIVDAAMRQLTETG</td>\n",
       "      <td>inactive - virtual</td>\n",
       "    </tr>\n",
       "    <tr>\n",
       "      <th>947</th>\n",
       "      <td>948</td>\n",
       "      <td>YQNIVKAVQYAARKLQ</td>\n",
       "      <td>inactive - virtual</td>\n",
       "    </tr>\n",
       "    <tr>\n",
       "      <th>948</th>\n",
       "      <td>949</td>\n",
       "      <td>YQQQKKYLGRMTE</td>\n",
       "      <td>inactive - virtual</td>\n",
       "    </tr>\n",
       "  </tbody>\n",
       "</table>\n",
       "<p>949 rows × 3 columns</p>\n",
       "</div>"
      ],
      "text/plain": [
       "      ID                 sequence               class\n",
       "0      1    AAWKWAWAKKWAKAKKWAKAA         mod. active\n",
       "1      2  AIGKFLHSAKKFGKAFVGEIMNS         mod. active\n",
       "2      3    AWKKWAKAWKWAKAKWWAKAA         mod. active\n",
       "3      4             ESFSDWWKLLAE         mod. active\n",
       "4      5             ETFADWWKLLAE         mod. active\n",
       "..   ...                      ...                 ...\n",
       "944  945  YLDKEVKLIKKMGNHLTNLRRVA  inactive - virtual\n",
       "945  946  YLSESVETIKKLGDHITSLKKLW  inactive - virtual\n",
       "946  947          YPIVDAAMRQLTETG  inactive - virtual\n",
       "947  948         YQNIVKAVQYAARKLQ  inactive - virtual\n",
       "948  949            YQQQKKYLGRMTE  inactive - virtual\n",
       "\n",
       "[949 rows x 3 columns]"
      ]
     },
     "execution_count": 253,
     "metadata": {},
     "output_type": "execute_result"
    }
   ],
   "source": [
    "df"
   ]
  },
  {
   "cell_type": "code",
   "execution_count": 254,
   "metadata": {},
   "outputs": [
    {
     "data": {
      "text/plain": [
       "array(['mod. active', 'inactive - exp', 'very active',\n",
       "       'inactive - virtual'], dtype=object)"
      ]
     },
     "execution_count": 254,
     "metadata": {},
     "output_type": "execute_result"
    }
   ],
   "source": [
    "df[\"class\"].unique()"
   ]
  },
  {
   "cell_type": "code",
   "execution_count": 255,
   "metadata": {},
   "outputs": [],
   "source": [
    "test_df_abnormal = df[df[\"class\"] == \"very active\"]"
   ]
  },
  {
   "cell_type": "code",
   "execution_count": 256,
   "metadata": {},
   "outputs": [
    {
     "data": {
      "text/html": [
       "<div>\n",
       "<style scoped>\n",
       "    .dataframe tbody tr th:only-of-type {\n",
       "        vertical-align: middle;\n",
       "    }\n",
       "\n",
       "    .dataframe tbody tr th {\n",
       "        vertical-align: top;\n",
       "    }\n",
       "\n",
       "    .dataframe thead th {\n",
       "        text-align: right;\n",
       "    }\n",
       "</style>\n",
       "<table border=\"1\" class=\"dataframe\">\n",
       "  <thead>\n",
       "    <tr style=\"text-align: right;\">\n",
       "      <th></th>\n",
       "      <th>ID</th>\n",
       "      <th>sequence</th>\n",
       "      <th>class</th>\n",
       "    </tr>\n",
       "  </thead>\n",
       "  <tbody>\n",
       "    <tr>\n",
       "      <th>26</th>\n",
       "      <td>27</td>\n",
       "      <td>FAKKLAKLAKKLAKLAL</td>\n",
       "      <td>very active</td>\n",
       "    </tr>\n",
       "    <tr>\n",
       "      <th>27</th>\n",
       "      <td>28</td>\n",
       "      <td>FAKKLAKLAKKLAKLALAL</td>\n",
       "      <td>very active</td>\n",
       "    </tr>\n",
       "    <tr>\n",
       "      <th>68</th>\n",
       "      <td>69</td>\n",
       "      <td>FALALKALKKLAKKLKKLAKKAL</td>\n",
       "      <td>very active</td>\n",
       "    </tr>\n",
       "    <tr>\n",
       "      <th>85</th>\n",
       "      <td>86</td>\n",
       "      <td>FLGALFKALSKLL</td>\n",
       "      <td>very active</td>\n",
       "    </tr>\n",
       "    <tr>\n",
       "      <th>87</th>\n",
       "      <td>88</td>\n",
       "      <td>FLGMIPKLIKKLIKAFK</td>\n",
       "      <td>very active</td>\n",
       "    </tr>\n",
       "    <tr>\n",
       "      <th>90</th>\n",
       "      <td>91</td>\n",
       "      <td>FLKLLKKLAAKLF</td>\n",
       "      <td>very active</td>\n",
       "    </tr>\n",
       "    <tr>\n",
       "      <th>91</th>\n",
       "      <td>92</td>\n",
       "      <td>FLSLIPKLVKKIIKAFK</td>\n",
       "      <td>very active</td>\n",
       "    </tr>\n",
       "    <tr>\n",
       "      <th>92</th>\n",
       "      <td>93</td>\n",
       "      <td>GIGAVLKVLTTGLPALISWIKRKRQQ</td>\n",
       "      <td>very active</td>\n",
       "    </tr>\n",
       "    <tr>\n",
       "      <th>99</th>\n",
       "      <td>100</td>\n",
       "      <td>GLFAVIKKVASVIGGL</td>\n",
       "      <td>very active</td>\n",
       "    </tr>\n",
       "    <tr>\n",
       "      <th>126</th>\n",
       "      <td>127</td>\n",
       "      <td>KKKFPWWWPFKKKCKKKFPWWWPFKKKC</td>\n",
       "      <td>very active</td>\n",
       "    </tr>\n",
       "    <tr>\n",
       "      <th>127</th>\n",
       "      <td>128</td>\n",
       "      <td>KKKFPWWWPFKKKKKKFPWWWPFKKKK</td>\n",
       "      <td>very active</td>\n",
       "    </tr>\n",
       "    <tr>\n",
       "      <th>139</th>\n",
       "      <td>140</td>\n",
       "      <td>KWKLFKKALKKLKKALKKAL</td>\n",
       "      <td>very active</td>\n",
       "    </tr>\n",
       "    <tr>\n",
       "      <th>143</th>\n",
       "      <td>144</td>\n",
       "      <td>KWKLFKKILKFLHLAKKF</td>\n",
       "      <td>very active</td>\n",
       "    </tr>\n",
       "    <tr>\n",
       "      <th>155</th>\n",
       "      <td>156</td>\n",
       "      <td>KWKLFKKISKFLHLAKKF</td>\n",
       "      <td>very active</td>\n",
       "    </tr>\n",
       "    <tr>\n",
       "      <th>161</th>\n",
       "      <td>162</td>\n",
       "      <td>KWKSFLKTFKSLKKTVLHTALKAISS</td>\n",
       "      <td>very active</td>\n",
       "    </tr>\n",
       "    <tr>\n",
       "      <th>178</th>\n",
       "      <td>179</td>\n",
       "      <td>RAGLQFPVGRLLRRLLRRLLR</td>\n",
       "      <td>very active</td>\n",
       "    </tr>\n",
       "    <tr>\n",
       "      <th>195</th>\n",
       "      <td>196</td>\n",
       "      <td>WFKKIPKFLHLLKKF</td>\n",
       "      <td>very active</td>\n",
       "    </tr>\n",
       "    <tr>\n",
       "      <th>197</th>\n",
       "      <td>198</td>\n",
       "      <td>WKKIPKFLHLLKKF</td>\n",
       "      <td>very active</td>\n",
       "    </tr>\n",
       "  </tbody>\n",
       "</table>\n",
       "</div>"
      ],
      "text/plain": [
       "      ID                      sequence        class\n",
       "26    27             FAKKLAKLAKKLAKLAL  very active\n",
       "27    28           FAKKLAKLAKKLAKLALAL  very active\n",
       "68    69       FALALKALKKLAKKLKKLAKKAL  very active\n",
       "85    86                 FLGALFKALSKLL  very active\n",
       "87    88             FLGMIPKLIKKLIKAFK  very active\n",
       "90    91                 FLKLLKKLAAKLF  very active\n",
       "91    92             FLSLIPKLVKKIIKAFK  very active\n",
       "92    93    GIGAVLKVLTTGLPALISWIKRKRQQ  very active\n",
       "99   100              GLFAVIKKVASVIGGL  very active\n",
       "126  127  KKKFPWWWPFKKKCKKKFPWWWPFKKKC  very active\n",
       "127  128   KKKFPWWWPFKKKKKKFPWWWPFKKKK  very active\n",
       "139  140          KWKLFKKALKKLKKALKKAL  very active\n",
       "143  144            KWKLFKKILKFLHLAKKF  very active\n",
       "155  156            KWKLFKKISKFLHLAKKF  very active\n",
       "161  162    KWKSFLKTFKSLKKTVLHTALKAISS  very active\n",
       "178  179         RAGLQFPVGRLLRRLLRRLLR  very active\n",
       "195  196               WFKKIPKFLHLLKKF  very active\n",
       "197  198                WKKIPKFLHLLKKF  very active"
      ]
     },
     "execution_count": 256,
     "metadata": {},
     "output_type": "execute_result"
    }
   ],
   "source": [
    "test_df_abnormal"
   ]
  },
  {
   "cell_type": "code",
   "execution_count": 257,
   "metadata": {},
   "outputs": [],
   "source": [
    "test_abnormal = test_df_abnormal[\"sequence\"].to_numpy()"
   ]
  },
  {
   "cell_type": "code",
   "execution_count": 258,
   "metadata": {},
   "outputs": [
    {
     "data": {
      "text/plain": [
       "(18,)"
      ]
     },
     "execution_count": 258,
     "metadata": {},
     "output_type": "execute_result"
    }
   ],
   "source": [
    "test_abnormal.shape"
   ]
  },
  {
   "cell_type": "code",
   "execution_count": 259,
   "metadata": {},
   "outputs": [],
   "source": [
    "train_df = df[df[\"class\"] == \"inactive - virtual\"]"
   ]
  },
  {
   "cell_type": "code",
   "execution_count": 260,
   "metadata": {},
   "outputs": [
    {
     "data": {
      "text/html": [
       "<div>\n",
       "<style scoped>\n",
       "    .dataframe tbody tr th:only-of-type {\n",
       "        vertical-align: middle;\n",
       "    }\n",
       "\n",
       "    .dataframe tbody tr th {\n",
       "        vertical-align: top;\n",
       "    }\n",
       "\n",
       "    .dataframe thead th {\n",
       "        text-align: right;\n",
       "    }\n",
       "</style>\n",
       "<table border=\"1\" class=\"dataframe\">\n",
       "  <thead>\n",
       "    <tr style=\"text-align: right;\">\n",
       "      <th></th>\n",
       "      <th>ID</th>\n",
       "      <th>sequence</th>\n",
       "      <th>class</th>\n",
       "    </tr>\n",
       "  </thead>\n",
       "  <tbody>\n",
       "    <tr>\n",
       "      <th>199</th>\n",
       "      <td>200</td>\n",
       "      <td>AADIFSKFKKDMEVKFA</td>\n",
       "      <td>inactive - virtual</td>\n",
       "    </tr>\n",
       "    <tr>\n",
       "      <th>200</th>\n",
       "      <td>201</td>\n",
       "      <td>AAQKDNVKSSWAKASA</td>\n",
       "      <td>inactive - virtual</td>\n",
       "    </tr>\n",
       "    <tr>\n",
       "      <th>201</th>\n",
       "      <td>202</td>\n",
       "      <td>AASQRKLIAEKFAQALMSSL</td>\n",
       "      <td>inactive - virtual</td>\n",
       "    </tr>\n",
       "    <tr>\n",
       "      <th>202</th>\n",
       "      <td>203</td>\n",
       "      <td>AAYATLYEALVLVATLAAP</td>\n",
       "      <td>inactive - virtual</td>\n",
       "    </tr>\n",
       "    <tr>\n",
       "      <th>203</th>\n",
       "      <td>204</td>\n",
       "      <td>AEAHESIRLVFHDS</td>\n",
       "      <td>inactive - virtual</td>\n",
       "    </tr>\n",
       "    <tr>\n",
       "      <th>...</th>\n",
       "      <td>...</td>\n",
       "      <td>...</td>\n",
       "      <td>...</td>\n",
       "    </tr>\n",
       "    <tr>\n",
       "      <th>944</th>\n",
       "      <td>945</td>\n",
       "      <td>YLDKEVKLIKKMGNHLTNLRRVA</td>\n",
       "      <td>inactive - virtual</td>\n",
       "    </tr>\n",
       "    <tr>\n",
       "      <th>945</th>\n",
       "      <td>946</td>\n",
       "      <td>YLSESVETIKKLGDHITSLKKLW</td>\n",
       "      <td>inactive - virtual</td>\n",
       "    </tr>\n",
       "    <tr>\n",
       "      <th>946</th>\n",
       "      <td>947</td>\n",
       "      <td>YPIVDAAMRQLTETG</td>\n",
       "      <td>inactive - virtual</td>\n",
       "    </tr>\n",
       "    <tr>\n",
       "      <th>947</th>\n",
       "      <td>948</td>\n",
       "      <td>YQNIVKAVQYAARKLQ</td>\n",
       "      <td>inactive - virtual</td>\n",
       "    </tr>\n",
       "    <tr>\n",
       "      <th>948</th>\n",
       "      <td>949</td>\n",
       "      <td>YQQQKKYLGRMTE</td>\n",
       "      <td>inactive - virtual</td>\n",
       "    </tr>\n",
       "  </tbody>\n",
       "</table>\n",
       "<p>750 rows × 3 columns</p>\n",
       "</div>"
      ],
      "text/plain": [
       "      ID                 sequence               class\n",
       "199  200        AADIFSKFKKDMEVKFA  inactive - virtual\n",
       "200  201         AAQKDNVKSSWAKASA  inactive - virtual\n",
       "201  202     AASQRKLIAEKFAQALMSSL  inactive - virtual\n",
       "202  203      AAYATLYEALVLVATLAAP  inactive - virtual\n",
       "203  204           AEAHESIRLVFHDS  inactive - virtual\n",
       "..   ...                      ...                 ...\n",
       "944  945  YLDKEVKLIKKMGNHLTNLRRVA  inactive - virtual\n",
       "945  946  YLSESVETIKKLGDHITSLKKLW  inactive - virtual\n",
       "946  947          YPIVDAAMRQLTETG  inactive - virtual\n",
       "947  948         YQNIVKAVQYAARKLQ  inactive - virtual\n",
       "948  949            YQQQKKYLGRMTE  inactive - virtual\n",
       "\n",
       "[750 rows x 3 columns]"
      ]
     },
     "execution_count": 260,
     "metadata": {},
     "output_type": "execute_result"
    }
   ],
   "source": [
    "train_df"
   ]
  },
  {
   "cell_type": "code",
   "execution_count": 261,
   "metadata": {},
   "outputs": [],
   "source": [
    "train= train_df[\"sequence\"].to_numpy()"
   ]
  },
  {
   "cell_type": "code",
   "execution_count": 262,
   "metadata": {},
   "outputs": [],
   "source": [
    "train_normal, test_normal = train_test_split(train, test_size = test_abnormal.shape[0]*10, shuffle = True)"
   ]
  },
  {
   "cell_type": "code",
   "execution_count": 263,
   "metadata": {},
   "outputs": [
    {
     "data": {
      "text/plain": [
       "((570,), (180,))"
      ]
     },
     "execution_count": 263,
     "metadata": {},
     "output_type": "execute_result"
    }
   ],
   "source": [
    "train_normal.shape, test_normal.shape"
   ]
  },
  {
   "cell_type": "code",
   "execution_count": 314,
   "metadata": {},
   "outputs": [],
   "source": [
    "A = set()\n",
    "\n",
    "for element in train:\n",
    "    A = A.union(set(element))\n",
    "for element in test_abnormal:\n",
    "    A = A.union(set(element))"
   ]
  },
  {
   "cell_type": "code",
   "execution_count": 315,
   "metadata": {},
   "outputs": [
    {
     "data": {
      "text/plain": [
       "{'A',\n",
       " 'C',\n",
       " 'D',\n",
       " 'E',\n",
       " 'F',\n",
       " 'G',\n",
       " 'H',\n",
       " 'I',\n",
       " 'K',\n",
       " 'L',\n",
       " 'M',\n",
       " 'N',\n",
       " 'P',\n",
       " 'Q',\n",
       " 'R',\n",
       " 'S',\n",
       " 'T',\n",
       " 'V',\n",
       " 'W',\n",
       " 'Y'}"
      ]
     },
     "execution_count": 315,
     "metadata": {},
     "output_type": "execute_result"
    }
   ],
   "source": [
    "A"
   ]
  },
  {
   "cell_type": "markdown",
   "metadata": {},
   "source": [
    "# Applying markov technique"
   ]
  },
  {
   "cell_type": "code",
   "execution_count": 423,
   "metadata": {},
   "outputs": [],
   "source": [
    "from importlib import reload\n",
    "import markov_chain\n",
    "markov_chain = reload(markov_chain)\n",
    "from markov_chain import compute_markov_chain, compute_probability"
   ]
  },
  {
   "cell_type": "code",
   "execution_count": 424,
   "metadata": {},
   "outputs": [],
   "source": [
    "A = set()\n",
    "\n",
    "for element in train:\n",
    "    A = A.union(set(element))\n",
    "for element in test_abnormal:\n",
    "    A = A.union(set(element))"
   ]
  },
  {
   "cell_type": "code",
   "execution_count": 425,
   "metadata": {},
   "outputs": [],
   "source": [
    "A = np.array(list(A))"
   ]
  },
  {
   "cell_type": "code",
   "execution_count": 426,
   "metadata": {},
   "outputs": [
    {
     "data": {
      "text/plain": [
       "array(['M', 'A', 'N', 'R', 'E', 'S', 'I', 'P', 'D', 'H', 'L', 'W', 'Q',\n",
       "       'K', 'Y', 'C', 'T', 'V', 'F', 'G'], dtype='<U1')"
      ]
     },
     "execution_count": 426,
     "metadata": {},
     "output_type": "execute_result"
    }
   ],
   "source": [
    "A"
   ]
  },
  {
   "cell_type": "code",
   "execution_count": 427,
   "metadata": {},
   "outputs": [],
   "source": [
    "Q, P = compute_markov_chain(A, train_normal)"
   ]
  },
  {
   "cell_type": "code",
   "execution_count": 428,
   "metadata": {},
   "outputs": [
    {
     "data": {
      "text/plain": [
       "(1.0000000000000002,\n",
       " array([1., 1., 1., 1., 1., 1., 1., 1., 1., 1., 1., 1., 1., 1., 1., 1., 1.,\n",
       "        1., 1., 1.]))"
      ]
     },
     "execution_count": 428,
     "metadata": {},
     "output_type": "execute_result"
    }
   ],
   "source": [
    "np.sum(Q), np.sum(P, axis = 0)"
   ]
  },
  {
   "cell_type": "code",
   "execution_count": 429,
   "metadata": {},
   "outputs": [],
   "source": [
    "prob_normal = compute_probability(test_normal, A, Q, P)"
   ]
  },
  {
   "cell_type": "code",
   "execution_count": 430,
   "metadata": {},
   "outputs": [],
   "source": [
    "prob_abnormal = compute_probability(test_abnormal, A, Q, P)"
   ]
  },
  {
   "cell_type": "code",
   "execution_count": 431,
   "metadata": {},
   "outputs": [
    {
     "data": {
      "text/plain": [
       "((180,), (18,))"
      ]
     },
     "execution_count": 431,
     "metadata": {},
     "output_type": "execute_result"
    }
   ],
   "source": [
    "prob_normal.shape, prob_abnormal.shape"
   ]
  },
  {
   "cell_type": "code",
   "execution_count": 432,
   "metadata": {},
   "outputs": [
    {
     "data": {
      "text/plain": [
       "(180,)"
      ]
     },
     "execution_count": 432,
     "metadata": {},
     "output_type": "execute_result"
    }
   ],
   "source": [
    "prob_normal = np.sort(prob_normal)\n",
    "prob_abnormal = np.sort(prob_abnormal)\n",
    "prob_normal.shape"
   ]
  },
  {
   "cell_type": "code",
   "execution_count": 433,
   "metadata": {},
   "outputs": [],
   "source": [
    "# Computing all the scores:\n",
    "labels = np.zeros(prob_normal.shape[0]+ prob_abnormal.shape[0])\n",
    "labels[prob_normal.shape[0]: ] = 1\n",
    "scores = np.hstack((prob_normal, prob_abnormal))\n",
    "scores = np.vstack((scores, labels)).T"
   ]
  },
  {
   "cell_type": "code",
   "execution_count": 434,
   "metadata": {},
   "outputs": [],
   "source": [
    "scores_sorted = scores[scores[:, 0].argsort()]"
   ]
  },
  {
   "cell_type": "code",
   "execution_count": 435,
   "metadata": {},
   "outputs": [
    {
     "data": {
      "text/plain": [
       "<matplotlib.legend.Legend at 0x2a6771d6f28>"
      ]
     },
     "execution_count": 435,
     "metadata": {},
     "output_type": "execute_result"
    },
    {
     "data": {
      "image/png": "[encoded data removed]",
      "text/plain": [
       "<Figure size 720x576 with 1 Axes>"
      ]
     },
     "metadata": {
      "needs_background": "light"
     },
     "output_type": "display_data"
    }
   ],
   "source": [
    "\n",
    "plt.figure(figsize = (10,8))\n",
    "\n",
    "for i in range(scores.shape[0]):\n",
    "    if scores_sorted[i, 1] == 0:\n",
    "        c = \"blue\"\n",
    "        label = \"normal\"\n",
    "    else:\n",
    "        c = \"red\"\n",
    "        label = \"abnormal\"\n",
    "    plt.bar(i, scores_sorted[i, 0], color = c, label = label, width = 0.75)\n",
    "plt.legend(prop={'size': 20})\n",
    "plt.title(\"Normality scores for normal and abnormal sequences (lower is better)\", size = 20)\n",
    "plt.yscale(\"log\")\n",
    "handles, labels = plt.gca().get_legend_handles_labels()\n",
    "by_label = dict(zip(labels, handles))\n",
    "plt.legend(by_label.values(), by_label.keys(), prop={'size': 20})"
   ]
  },
  {
   "cell_type": "code",
   "execution_count": 436,
   "metadata": {},
   "outputs": [
    {
     "name": "stdout",
     "output_type": "stream",
     "text": [
      "The number of abnormalities found is 4\n"
     ]
    }
   ],
   "source": [
    "ab = np.where(scores_sorted[:20] == 1)[0].shape[0]\n",
    "\n",
    "print(\"The number of abnormalities found is {}\".format(ab))"
   ]
  },
  {
   "cell_type": "markdown",
   "metadata": {},
   "source": [
    "## Multiple entrie markov chain"
   ]
  },
  {
   "cell_type": "code",
   "execution_count": 458,
   "metadata": {},
   "outputs": [],
   "source": [
    "from itertools import permutations, combinations_with_replacement"
   ]
  },
  {
   "cell_type": "code",
   "execution_count": 459,
   "metadata": {},
   "outputs": [],
   "source": [
    "import markov_chain\n",
    "markov_chain = reload(markov_chain)\n",
    "from markov_chain import compute_markov_chain_multi, compute_probability_multi"
   ]
  },
  {
   "cell_type": "code",
   "execution_count": 460,
   "metadata": {},
   "outputs": [],
   "source": [
    "A = set()\n",
    "\n",
    "for element in train:\n",
    "    A = A.union(set(element))\n",
    "for element in test_abnormal:\n",
    "    A = A.union(set(element))\n",
    "A = np.array(list(A))"
   ]
  },
  {
   "cell_type": "code",
   "execution_count": 461,
   "metadata": {},
   "outputs": [],
   "source": [
    "a = np.copy(A)\n",
    "a\n",
    "alphabet = ''\n",
    "\n",
    "for element in a:\n",
    "    alphabet += element\n",
    "    "
   ]
  },
  {
   "cell_type": "code",
   "execution_count": 462,
   "metadata": {},
   "outputs": [
    {
     "data": {
      "text/plain": [
       "(20,)"
      ]
     },
     "execution_count": 462,
     "metadata": {},
     "output_type": "execute_result"
    }
   ],
   "source": [
    "a.shape"
   ]
  },
  {
   "cell_type": "code",
   "execution_count": 463,
   "metadata": {},
   "outputs": [
    {
     "data": {
      "text/plain": [
       "20"
      ]
     },
     "execution_count": 463,
     "metadata": {},
     "output_type": "execute_result"
    }
   ],
   "source": [
    "len(alphabet)"
   ]
  },
  {
   "cell_type": "code",
   "execution_count": 464,
   "metadata": {},
   "outputs": [],
   "source": [
    "comb = list(combinations_with_replacement(alphabet, 3))\n",
    "A = []\n",
    "temp = []\n",
    "for element in comb:\n",
    "    temp.append(''.join(element))\n",
    "for letter in temp:\n",
    "    for p in permutations(letter):\n",
    "        A.append(''.join(p))\n",
    "        \n",
    "A = np.unique(np.array(A))"
   ]
  },
  {
   "cell_type": "code",
   "execution_count": 465,
   "metadata": {},
   "outputs": [
    {
     "data": {
      "text/plain": [
       "(8000,)"
      ]
     },
     "execution_count": 465,
     "metadata": {},
     "output_type": "execute_result"
    }
   ],
   "source": [
    "A.shape"
   ]
  },
  {
   "cell_type": "code",
   "execution_count": 466,
   "metadata": {},
   "outputs": [
    {
     "data": {
      "text/plain": [
       "8000"
      ]
     },
     "execution_count": 466,
     "metadata": {},
     "output_type": "execute_result"
    }
   ],
   "source": [
    "20**3"
   ]
  },
  {
   "cell_type": "code",
   "execution_count": 467,
   "metadata": {},
   "outputs": [],
   "source": [
    "Q, P = compute_markov_chain_multi(A, a, train)"
   ]
  },
  {
   "cell_type": "code",
   "execution_count": 468,
   "metadata": {},
   "outputs": [
    {
     "data": {
      "text/plain": [
       "(1.0, array([1., 0., 1., ..., 1., 0., 0.]))"
      ]
     },
     "execution_count": 468,
     "metadata": {},
     "output_type": "execute_result"
    }
   ],
   "source": [
    "np.sum(Q), np.sum(P, axis = 0)"
   ]
  },
  {
   "cell_type": "code",
   "execution_count": 469,
   "metadata": {},
   "outputs": [],
   "source": [
    "P[np.where(P == 0)] = 1e-5"
   ]
  },
  {
   "cell_type": "code",
   "execution_count": 470,
   "metadata": {},
   "outputs": [],
   "source": [
    "prob_normal = compute_probability_multi(test_normal, A, a, Q, P)"
   ]
  },
  {
   "cell_type": "code",
   "execution_count": 471,
   "metadata": {},
   "outputs": [
    {
     "data": {
      "text/plain": [
       "(array([1.22076512e-14, 5.02257648e-08, 8.37096080e-13, 1.96847991e-15,\n",
       "        2.70446426e-12, 1.11294825e-10, 1.41613999e-08, 2.44153023e-14,\n",
       "        9.34259018e-11, 3.17723715e-17, 3.06207985e-17, 5.85967256e-11,\n",
       "        9.10594027e-10, 2.19217080e-15, 4.05669639e-12, 2.61592525e-16,\n",
       "        5.91026442e-12, 1.55017793e-15, 1.96194394e-15, 1.49481443e-13,\n",
       "        9.23813171e-26, 1.43058412e-09, 2.09274020e-07, 6.56006023e-16,\n",
       "        4.39475442e-13, 6.93908593e-14, 4.39475442e-12, 6.86680378e-15,\n",
       "        9.15573838e-13, 6.51074729e-14, 1.33800074e-19, 1.63070665e-14,\n",
       "        5.27370531e-11, 2.64346131e-15, 4.25873057e-17, 7.98511981e-13,\n",
       "        4.39392836e-18, 8.51940843e-22, 1.75790177e-11, 2.17372706e-18,\n",
       "        2.92983628e-13, 1.80854091e-12, 6.59213163e-11, 1.87810018e-13,\n",
       "        4.39475442e-14, 9.15573838e-13, 5.49344303e-12, 2.03838331e-09,\n",
       "        5.85967256e-12, 3.79722204e-20, 1.94637295e-16, 2.14115894e-20,\n",
       "        2.51128824e-13, 1.80854091e-15, 1.83114768e-13, 2.06004113e-14,\n",
       "        7.00694264e-15, 3.02769126e-16, 5.44439987e-14, 3.13911030e-09,\n",
       "        1.08713777e-15, 5.60555411e-14, 8.32339852e-14, 1.26832739e-16,\n",
       "        2.54326066e-14, 1.46491814e-11, 6.15511824e-14, 1.88818665e-14,\n",
       "        4.56894547e-09, 1.04660933e-18, 2.21957294e-14, 3.25537365e-12,\n",
       "        1.83114768e-12, 2.21957294e-13, 4.69525045e-09, 9.65880093e-13,\n",
       "        1.71670095e-13, 3.66229535e-12, 9.68861204e-10, 1.35640569e-08,\n",
       "        3.25537365e-13, 1.29388515e-19, 3.25537365e-12, 1.06140670e-16,\n",
       "        3.81489099e-16, 2.19737721e-09, 2.60429892e-14, 1.90791129e-10,\n",
       "        1.83114768e-13, 3.51580354e-11, 2.19737721e-11, 2.57568025e-14,\n",
       "        1.49481443e-14, 6.10382558e-13, 1.11612811e-15, 3.53230647e-18,\n",
       "        1.31842633e-10, 2.46059988e-18, 1.96194394e-14, 5.23185050e-08,\n",
       "        2.52249935e-13, 2.71281137e-14, 2.32526689e-08, 7.47407214e-10,\n",
       "        1.55973460e-10, 1.22076512e-13, 3.77637329e-14, 1.13007971e-14,\n",
       "        8.11339278e-12, 1.62768682e-13, 6.70750064e-11, 4.15226230e-15,\n",
       "        9.68861204e-16, 1.02045998e-13, 3.87544482e-11, 1.83114768e-12,\n",
       "        2.94363457e-15, 3.60595235e-13, 1.64803291e-11, 1.39516013e-13,\n",
       "        4.29175236e-15, 2.17024910e-08, 1.86021351e-14, 3.25537365e-13,\n",
       "        8.78950884e-11, 4.68961389e-13, 1.46491814e-11, 2.92983628e-12,\n",
       "        2.90658361e-15, 1.09868861e-09, 2.51758220e-08, 1.05643135e-14,\n",
       "        1.83114768e-13, 6.78202843e-15, 3.91623897e-15, 2.13544918e-16,\n",
       "        9.15573838e-10, 2.44153023e-13, 1.29660224e-19, 9.41733090e-15,\n",
       "        5.53634974e-12, 1.43534993e-18, 1.67419216e-13, 7.45277849e-17,\n",
       "        1.02184580e-17, 1.86021351e-13, 1.62768682e-13, 7.54329807e-15,\n",
       "        5.05551417e-15, 1.64482037e-12, 1.27163033e-09, 5.94528466e-17,\n",
       "        1.03536930e-16, 3.13141953e-19, 1.96194394e-09, 7.53386472e-13,\n",
       "        2.92983628e-11, 1.28607354e-10, 1.24567869e-15, 7.13434159e-10,\n",
       "        1.17193451e-12, 7.75088963e-16, 1.91053205e-13, 9.15573838e-17,\n",
       "        1.63495328e-16, 1.50711743e-17, 2.63685265e-10, 6.38653626e-13,\n",
       "        8.71975084e-15, 3.01354589e-07, 1.36246107e-15, 3.17907583e-10,\n",
       "        2.11938388e-16, 8.96888657e-14, 1.35223213e-12, 5.49344303e-13,\n",
       "        7.53558714e-13, 2.61592525e-13, 5.26843687e-14, 2.49339280e-15]),\n",
       " array([1.12938714e-18, 1.75398971e-20, 9.48366922e-24, 1.46880889e-14,\n",
       "        1.34052232e-25, 1.42742960e-14, 3.72106601e-19, 3.14267454e-38,\n",
       "        4.22832276e-22, 2.05179994e-97, 6.82198254e-83, 5.87670256e-26,\n",
       "        6.70630820e-26, 1.80297617e-26, 1.94354238e-37, 1.93793389e-40,\n",
       "        1.41920909e-17, 3.12225999e-16]))"
      ]
     },
     "execution_count": 471,
     "metadata": {},
     "output_type": "execute_result"
    }
   ],
   "source": [
    "prob_normal, prob_abnormal"
   ]
  },
  {
   "cell_type": "code",
   "execution_count": 472,
   "metadata": {},
   "outputs": [
    {
     "data": {
      "text/plain": [
       "array([1.12938714e-18, 1.75398971e-20, 9.48366922e-24, 1.46880889e-14,\n",
       "       1.34052232e-25, 1.42742960e-14, 3.72106601e-19, 3.14267454e-38,\n",
       "       4.22832276e-22, 2.05179994e-97, 6.82198254e-83, 5.87670256e-26,\n",
       "       6.70630820e-26, 1.80297617e-26, 1.94354238e-37, 1.93793389e-40,\n",
       "       1.41920909e-17, 3.12225999e-16])"
      ]
     },
     "execution_count": 472,
     "metadata": {},
     "output_type": "execute_result"
    }
   ],
   "source": [
    "prob_abnormal"
   ]
  },
  {
   "cell_type": "code",
   "execution_count": 473,
   "metadata": {},
   "outputs": [],
   "source": [
    "prob_abnormal = compute_probability_multi(test_abnormal, A, a, Q, P)"
   ]
  },
  {
   "cell_type": "code",
   "execution_count": 474,
   "metadata": {},
   "outputs": [],
   "source": [
    "# Computing all the scores:\n",
    "labels = np.zeros(prob_normal.shape[0]+ prob_abnormal.shape[0])\n",
    "labels[prob_normal.shape[0]: ] = 1\n",
    "scores = np.hstack((prob_normal, prob_abnormal))\n",
    "scores = np.vstack((scores, labels)).T"
   ]
  },
  {
   "cell_type": "code",
   "execution_count": 475,
   "metadata": {},
   "outputs": [],
   "source": [
    "scores_sorted = scores[scores[:, 0].argsort()]"
   ]
  },
  {
   "cell_type": "code",
   "execution_count": 476,
   "metadata": {},
   "outputs": [
    {
     "data": {
      "text/plain": [
       "<matplotlib.legend.Legend at 0x2a676bf60b8>"
      ]
     },
     "execution_count": 476,
     "metadata": {},
     "output_type": "execute_result"
    },
    {
     "data": {
      "image/png": "[encoded data removed]",
      "text/plain": [
       "<Figure size 720x576 with 1 Axes>"
      ]
     },
     "metadata": {
      "needs_background": "light"
     },
     "output_type": "display_data"
    }
   ],
   "source": [
    "\n",
    "plt.figure(figsize = (10,8))\n",
    "\n",
    "for i in range(scores.shape[0]):\n",
    "    if scores_sorted[i, 1] == 0:\n",
    "        c = \"blue\"\n",
    "        label = \"normal\"\n",
    "    else:\n",
    "        c = \"red\"\n",
    "        label = \"abnormal\"\n",
    "    plt.bar(i, scores_sorted[i, 0], color = c, label = label, width = 0.75)\n",
    "plt.legend(prop={'size': 20})\n",
    "plt.title(\"Normality scores for normal and abnormal sequences (higher is better)\", size = 20)\n",
    "plt.yscale(\"log\")\n",
    "handles, labels = plt.gca().get_legend_handles_labels()\n",
    "by_label = dict(zip(labels, handles))\n",
    "plt.legend(by_label.values(), by_label.keys(), prop={'size': 20})"
   ]
  },
  {
   "cell_type": "code",
   "execution_count": 422,
   "metadata": {},
   "outputs": [
    {
     "data": {
      "text/plain": [
       "<matplotlib.legend.Legend at 0x2a677449588>"
      ]
     },
     "execution_count": 422,
     "metadata": {},
     "output_type": "execute_result"
    },
    {
     "data": {
      "image/png": "[encoded data removed]",
      "text/plain": [
       "<Figure size 720x576 with 1 Axes>"
      ]
     },
     "metadata": {
      "needs_background": "light"
     },
     "output_type": "display_data"
    }
   ],
   "source": [
    "\n",
    "plt.figure(figsize = (10,8))\n",
    "\n",
    "for i in range(scores.shape[0]):\n",
    "    if scores_sorted[i, 1] == 0:\n",
    "        c = \"blue\"\n",
    "        label = \"normal\"\n",
    "    else:\n",
    "        c = \"red\"\n",
    "        label = \"abnormal\"\n",
    "    plt.bar(i, scores_sorted[i, 0], color = c, label = label, width = 0.75)\n",
    "plt.legend(prop={'size': 20})\n",
    "plt.title(\"Normality scores for normal and abnormal sequences (higher is better)\", size = 20)\n",
    "plt.yscale(\"log\")\n",
    "handles, labels = plt.gca().get_legend_handles_labels()\n",
    "by_label = dict(zip(labels, handles))\n",
    "plt.legend(by_label.values(), by_label.keys(), prop={'size': 20})"
   ]
  },
  {
   "cell_type": "code",
   "execution_count": 417,
   "metadata": {},
   "outputs": [
    {
     "name": "stdout",
     "output_type": "stream",
     "text": [
      "The number of abnormalities found is 18\n"
     ]
    }
   ],
   "source": [
    "ab = np.where(scores_sorted[:20] == 1)[0].shape[0]\n",
    "\n",
    "print(\"The number of abnormalities found is {}\".format(ab))"
   ]
  },
  {
   "cell_type": "markdown",
   "metadata": {},
   "source": [
    "## Multiple entrie markov chain"
   ]
  },
  {
   "cell_type": "code",
   "execution_count": 437,
   "metadata": {},
   "outputs": [],
   "source": [
    "from itertools import permutations, combinations_with_replacement"
   ]
  },
  {
   "cell_type": "code",
   "execution_count": 438,
   "metadata": {},
   "outputs": [],
   "source": [
    "import markov_chain\n",
    "markov_chain = reload(markov_chain)\n",
    "from markov_chain import compute_markov_chain_multi, compute_probability_multi"
   ]
  },
  {
   "cell_type": "code",
   "execution_count": 439,
   "metadata": {},
   "outputs": [],
   "source": [
    "A = set()\n",
    "\n",
    "for element in train:\n",
    "    A = A.union(set(element))\n",
    "for element in test_abnormal:\n",
    "    A = A.union(set(element))\n",
    "A = np.array(list(A))"
   ]
  },
  {
   "cell_type": "code",
   "execution_count": 440,
   "metadata": {},
   "outputs": [],
   "source": [
    "a = np.copy(A)\n",
    "a\n",
    "alphabet = ''\n",
    "\n",
    "for element in a:\n",
    "    alphabet += element\n",
    "    "
   ]
  },
  {
   "cell_type": "code",
   "execution_count": 441,
   "metadata": {},
   "outputs": [
    {
     "data": {
      "text/plain": [
       "array(['M', 'A', 'N', 'R', 'E', 'S', 'I', 'P', 'D', 'H', 'L', 'W', 'Q',\n",
       "       'K', 'Y', 'C', 'T', 'V', 'F', 'G'], dtype='<U1')"
      ]
     },
     "execution_count": 441,
     "metadata": {},
     "output_type": "execute_result"
    }
   ],
   "source": [
    "a"
   ]
  },
  {
   "cell_type": "code",
   "execution_count": 442,
   "metadata": {},
   "outputs": [
    {
     "data": {
      "text/plain": [
       "20"
      ]
     },
     "execution_count": 442,
     "metadata": {},
     "output_type": "execute_result"
    }
   ],
   "source": [
    "len(alphabet)"
   ]
  },
  {
   "cell_type": "code",
   "execution_count": 443,
   "metadata": {},
   "outputs": [],
   "source": [
    "comb = list(combinations_with_replacement(alphabet, 2))\n",
    "A = []\n",
    "temp = []\n",
    "for element in comb:\n",
    "    temp.append(''.join(element))\n",
    "for letter in temp:\n",
    "    for p in permutations(letter):\n",
    "        A.append(''.join(p))\n",
    "        \n",
    "A = np.unique(np.array(A))"
   ]
  },
  {
   "cell_type": "code",
   "execution_count": 444,
   "metadata": {},
   "outputs": [
    {
     "data": {
      "text/plain": [
       "(400,)"
      ]
     },
     "execution_count": 444,
     "metadata": {},
     "output_type": "execute_result"
    }
   ],
   "source": [
    "A.shape"
   ]
  },
  {
   "cell_type": "code",
   "execution_count": 445,
   "metadata": {},
   "outputs": [],
   "source": [
    "Q, P = compute_markov_chain_multi(A, a, train)"
   ]
  },
  {
   "cell_type": "code",
   "execution_count": 446,
   "metadata": {},
   "outputs": [
    {
     "data": {
      "text/plain": [
       "(0.9999999999999999,\n",
       " array([1., 0., 1., 1., 1., 1., 1., 1., 1., 1., 1., 1., 1., 1., 1., 1., 1.,\n",
       "        1., 1., 1., 0., 0., 0., 0., 0., 0., 0., 0., 0., 0., 0., 0., 0., 0.,\n",
       "        0., 0., 0., 0., 0., 0., 1., 0., 1., 1., 1., 1., 1., 1., 1., 1., 1.,\n",
       "        1., 1., 1., 1., 1., 1., 1., 1., 1., 1., 0., 1., 1., 1., 1., 1., 1.,\n",
       "        1., 1., 1., 1., 1., 1., 1., 1., 1., 1., 1., 1., 1., 0., 1., 1., 1.,\n",
       "        1., 1., 1., 1., 1., 1., 1., 1., 1., 1., 1., 1., 1., 1., 1., 1., 0.,\n",
       "        1., 1., 1., 1., 1., 1., 1., 1., 1., 1., 1., 1., 1., 1., 1., 1., 1.,\n",
       "        1., 1., 0., 1., 1., 1., 1., 1., 1., 1., 1., 1., 1., 1., 1., 1., 1.,\n",
       "        1., 1., 1., 1., 1., 0., 1., 1., 1., 1., 1., 1., 1., 1., 1., 1., 1.,\n",
       "        1., 1., 1., 1., 1., 1., 1., 1., 0., 1., 1., 1., 1., 1., 1., 1., 1.,\n",
       "        1., 1., 1., 1., 1., 1., 1., 1., 1., 1., 1., 0., 1., 1., 1., 1., 1.,\n",
       "        1., 1., 1., 1., 1., 1., 1., 1., 1., 1., 1., 1., 1., 1., 0., 1., 1.,\n",
       "        1., 1., 1., 1., 1., 1., 1., 1., 1., 1., 1., 1., 1., 1., 1., 1., 1.,\n",
       "        0., 1., 1., 1., 1., 1., 1., 1., 1., 1., 1., 1., 1., 1., 1., 1., 1.,\n",
       "        1., 1., 1., 0., 1., 1., 1., 1., 1., 1., 1., 1., 1., 1., 1., 1., 1.,\n",
       "        1., 1., 1., 1., 1., 1., 0., 1., 1., 1., 1., 1., 1., 1., 1., 1., 1.,\n",
       "        1., 1., 1., 1., 1., 1., 1., 1., 1., 0., 1., 1., 1., 1., 1., 1., 1.,\n",
       "        1., 1., 1., 1., 1., 1., 1., 1., 1., 1., 1., 1., 0., 1., 1., 1., 1.,\n",
       "        1., 1., 1., 1., 1., 1., 1., 1., 1., 1., 1., 1., 1., 1., 1., 0., 1.,\n",
       "        1., 1., 1., 1., 1., 1., 1., 1., 1., 1., 1., 1., 1., 1., 1., 1., 1.,\n",
       "        1., 0., 1., 1., 1., 1., 1., 1., 1., 1., 1., 1., 1., 1., 1., 1., 1.,\n",
       "        1., 1., 1., 1., 0., 1., 1., 1., 1., 1., 1., 1., 1., 1., 1., 1., 1.,\n",
       "        1., 1., 1., 1., 1., 1., 1., 0., 1., 1., 1., 1., 1., 1., 1., 1., 1.,\n",
       "        1., 1., 1., 1., 1., 1., 1., 1., 1.]))"
      ]
     },
     "execution_count": 446,
     "metadata": {},
     "output_type": "execute_result"
    }
   ],
   "source": [
    "np.sum(Q), np.sum(P, axis = 0)"
   ]
  },
  {
   "cell_type": "code",
   "execution_count": 447,
   "metadata": {},
   "outputs": [],
   "source": [
    "P[np.where(P == 0)] = 1e-5"
   ]
  },
  {
   "cell_type": "code",
   "execution_count": 448,
   "metadata": {},
   "outputs": [],
   "source": [
    "prob_normal = compute_probability_multi(test_normal, A, a, Q, P)"
   ]
  },
  {
   "cell_type": "code",
   "execution_count": 449,
   "metadata": {},
   "outputs": [
    {
     "data": {
      "text/plain": [
       "(array([8.74601844e-26, 4.58566441e-15, 4.76785442e-15, 1.54475425e-19,\n",
       "        7.18933442e-19, 9.37069591e-16, 8.41285138e-12, 1.61413411e-15,\n",
       "        2.31017767e-22, 5.35343179e-23, 3.15537131e-20, 6.48096772e-14,\n",
       "        5.99863458e-13, 1.48189812e-29, 7.50412638e-18, 5.93018492e-22,\n",
       "        6.95464676e-33, 4.17105126e-19, 3.71030864e-20, 2.20177010e-24,\n",
       "        5.49394613e-33, 1.40152209e-20, 1.39477252e-16, 3.78073368e-24,\n",
       "        1.03351388e-24, 3.99220508e-12, 7.98375455e-18, 7.63554731e-23,\n",
       "        4.71254050e-19, 1.51401456e-17, 3.07366905e-25, 2.37009081e-13,\n",
       "        3.54960904e-16, 4.74736573e-16, 6.85664677e-25, 2.73993145e-20,\n",
       "        4.51489140e-29, 2.82835027e-33, 3.06312013e-15, 1.34000966e-33,\n",
       "        1.28670097e-20, 5.23870885e-20, 5.61489823e-22, 3.40116187e-22,\n",
       "        1.65773140e-19, 2.32167470e-26, 2.87027625e-13, 1.21226275e-19,\n",
       "        2.27548343e-18, 7.09581936e-33, 6.72198340e-19, 2.92601482e-31,\n",
       "        9.78046994e-17, 5.53021752e-21, 1.61211227e-18, 5.49624039e-25,\n",
       "        4.30936256e-25, 5.90015662e-23, 4.40313273e-21, 3.60667135e-15,\n",
       "        2.32945568e-16, 5.96650182e-16, 3.55142307e-17, 8.88004315e-23,\n",
       "        1.19965113e-25, 6.52690243e-19, 1.04017468e-18, 5.04248497e-16,\n",
       "        2.88122494e-12, 9.39797606e-31, 1.14438026e-15, 1.20091289e-18,\n",
       "        6.05243040e-19, 9.34477093e-22, 6.40165830e-16, 1.78524086e-12,\n",
       "        7.52152254e-15, 9.99285938e-17, 3.25465656e-25, 8.53192996e-12,\n",
       "        3.20265217e-17, 2.33207436e-31, 3.07787459e-22, 4.14597252e-21,\n",
       "        1.54133552e-20, 5.13179445e-13, 6.89777707e-20, 8.26481718e-13,\n",
       "        3.12498801e-13, 8.37653540e-12, 1.47833158e-13, 6.29842544e-14,\n",
       "        1.40457428e-16, 3.86683680e-23, 1.63865178e-20, 6.31582510e-28,\n",
       "        1.59152683e-13, 5.52349354e-27, 4.35608712e-15, 1.76723541e-12,\n",
       "        2.33510389e-25, 4.83011317e-22, 7.32756218e-14, 5.96242350e-17,\n",
       "        1.12787653e-13, 8.92404922e-21, 6.47164837e-13, 1.77774660e-21,\n",
       "        4.54441559e-10, 4.36851134e-12, 1.20598572e-16, 5.77152311e-17,\n",
       "        5.39515337e-24, 8.51644497e-20, 5.24847127e-20, 1.38209322e-23,\n",
       "        9.77689374e-14, 4.04178464e-16, 1.00992885e-14, 4.03807515e-22,\n",
       "        1.27338673e-23, 1.31357469e-12, 1.25623830e-19, 1.15669093e-13,\n",
       "        2.17249091e-17, 2.59345258e-11, 4.56159256e-16, 1.76164293e-12,\n",
       "        6.55119718e-24, 2.59636901e-18, 1.05556822e-14, 1.07909569e-14,\n",
       "        5.67143766e-21, 9.91097299e-21, 1.13336283e-18, 2.00476682e-25,\n",
       "        2.21762077e-22, 7.11377492e-25, 3.77026730e-27, 2.53121687e-20,\n",
       "        1.60744441e-19, 2.65409877e-28, 2.27158443e-17, 1.72916233e-27,\n",
       "        1.11816592e-27, 2.91800259e-17, 2.76747757e-17, 2.62145158e-25,\n",
       "        1.39901221e-23, 9.61067115e-12, 7.50572922e-17, 1.49293030e-24,\n",
       "        3.22103764e-24, 5.91875135e-26, 1.59656599e-16, 6.47634841e-18,\n",
       "        5.33074299e-12, 1.24752151e-19, 1.29779119e-19, 7.56892657e-14,\n",
       "        2.21733663e-20, 1.02048545e-16, 2.29860593e-16, 2.46816075e-17,\n",
       "        1.69731522e-19, 1.42425602e-37, 1.07349095e-10, 5.64263617e-29,\n",
       "        8.66053542e-22, 1.25282643e-11, 6.47311871e-20, 4.80353339e-23,\n",
       "        9.48474356e-26, 9.25119027e-15, 1.92699314e-15, 2.99544050e-16,\n",
       "        2.15579673e-21, 1.80107662e-15, 2.43913921e-14, 2.56431511e-19]),\n",
       " array([0.00000000e+00, 1.86483429e-35, 8.85186939e-33, 7.52616532e-32,\n",
       "        1.02024648e-24, 3.91455519e-24, 1.53227395e-22, 3.83990575e-22,\n",
       "        6.24964607e-22, 7.29350844e-21, 1.11995926e-20, 1.16670202e-20,\n",
       "        2.17056112e-19, 2.77136027e-19, 9.59798674e-19, 2.01703363e-18,\n",
       "        6.15705339e-15, 2.83827151e-14]))"
      ]
     },
     "execution_count": 449,
     "metadata": {},
     "output_type": "execute_result"
    }
   ],
   "source": [
    "prob_normal, prob_abnormal"
   ]
  },
  {
   "cell_type": "code",
   "execution_count": 450,
   "metadata": {},
   "outputs": [
    {
     "data": {
      "text/plain": [
       "array([0.00000000e+00, 1.86483429e-35, 8.85186939e-33, 7.52616532e-32,\n",
       "       1.02024648e-24, 3.91455519e-24, 1.53227395e-22, 3.83990575e-22,\n",
       "       6.24964607e-22, 7.29350844e-21, 1.11995926e-20, 1.16670202e-20,\n",
       "       2.17056112e-19, 2.77136027e-19, 9.59798674e-19, 2.01703363e-18,\n",
       "       6.15705339e-15, 2.83827151e-14])"
      ]
     },
     "execution_count": 450,
     "metadata": {},
     "output_type": "execute_result"
    }
   ],
   "source": [
    "prob_abnormal"
   ]
  },
  {
   "cell_type": "code",
   "execution_count": 451,
   "metadata": {},
   "outputs": [],
   "source": [
    "prob_abnormal = compute_probability_multi(test_abnormal, A, a, Q, P)"
   ]
  },
  {
   "cell_type": "code",
   "execution_count": 452,
   "metadata": {},
   "outputs": [],
   "source": [
    "# Computing all the scores:\n",
    "labels = np.zeros(prob_normal.shape[0]+ prob_abnormal.shape[0])\n",
    "labels[prob_normal.shape[0]: ] = 1\n",
    "scores = np.hstack((prob_normal, prob_abnormal))\n",
    "scores = np.vstack((scores, labels)).T"
   ]
  },
  {
   "cell_type": "code",
   "execution_count": 453,
   "metadata": {},
   "outputs": [],
   "source": [
    "scores_sorted = scores[scores[:, 0].argsort()]"
   ]
  },
  {
   "cell_type": "code",
   "execution_count": 454,
   "metadata": {},
   "outputs": [
    {
     "data": {
      "text/plain": [
       "<matplotlib.legend.Legend at 0x2a676988e48>"
      ]
     },
     "execution_count": 454,
     "metadata": {},
     "output_type": "execute_result"
    },
    {
     "data": {
      "image/png": "[encoded data removed]",
      "text/plain": [
       "<Figure size 720x576 with 1 Axes>"
      ]
     },
     "metadata": {
      "needs_background": "light"
     },
     "output_type": "display_data"
    }
   ],
   "source": [
    "\n",
    "plt.figure(figsize = (10,8))\n",
    "\n",
    "for i in range(scores.shape[0]):\n",
    "    if scores_sorted[i, 1] == 0:\n",
    "        c = \"blue\"\n",
    "        label = \"normal\"\n",
    "    else:\n",
    "        c = \"red\"\n",
    "        label = \"abnormal\"\n",
    "    plt.bar(i, scores_sorted[i, 0], color = c, label = label, width = 0.75)\n",
    "plt.legend(prop={'size': 20})\n",
    "plt.title(\"Normality scores for normal and abnormal sequences (lower is better)\", size = 20)\n",
    "plt.yscale(\"log\")\n",
    "handles, labels = plt.gca().get_legend_handles_labels()\n",
    "by_label = dict(zip(labels, handles))\n",
    "plt.legend(by_label.values(), by_label.keys(), prop={'size': 20})"
   ]
  },
  {
   "cell_type": "code",
   "execution_count": null,
   "metadata": {},
   "outputs": [],
   "source": []
  }
 ],
 "metadata": {
  "kernelspec": {
   "display_name": "Python 3",
   "language": "python",
   "name": "python3"
  }
 },
 "nbformat": 4,
 "nbformat_minor": 4
}
