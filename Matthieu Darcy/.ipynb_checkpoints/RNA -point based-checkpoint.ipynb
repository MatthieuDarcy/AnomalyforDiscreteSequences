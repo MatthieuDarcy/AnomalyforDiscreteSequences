{
 "cells": [
  {
   "cell_type": "code",
   "execution_count": 162,
   "metadata": {},
   "outputs": [],
   "source": [
    "import numpy as np\n",
    "\n",
    "import pandas as pd\n",
    "\n",
    "from sklearn.model_selection import train_test_split\n",
    "\n",
    "import matplotlib.pyplot as plt"
   ]
  },
  {
   "cell_type": "code",
   "execution_count": 5,
   "metadata": {},
   "outputs": [],
   "source": [
    "df = pd.read_csv('data\\Breast_cancer.csv')"
   ]
  },
  {
   "cell_type": "code",
   "execution_count": 6,
   "metadata": {},
   "outputs": [
    {
     "data": {
      "text/html": [
       "<div>\n",
       "<style scoped>\n",
       "    .dataframe tbody tr th:only-of-type {\n",
       "        vertical-align: middle;\n",
       "    }\n",
       "\n",
       "    .dataframe tbody tr th {\n",
       "        vertical-align: top;\n",
       "    }\n",
       "\n",
       "    .dataframe thead th {\n",
       "        text-align: right;\n",
       "    }\n",
       "</style>\n",
       "<table border=\"1\" class=\"dataframe\">\n",
       "  <thead>\n",
       "    <tr style=\"text-align: right;\">\n",
       "      <th></th>\n",
       "      <th>ID</th>\n",
       "      <th>sequence</th>\n",
       "      <th>class</th>\n",
       "    </tr>\n",
       "  </thead>\n",
       "  <tbody>\n",
       "    <tr>\n",
       "      <th>0</th>\n",
       "      <td>1</td>\n",
       "      <td>AAWKWAWAKKWAKAKKWAKAA</td>\n",
       "      <td>mod. active</td>\n",
       "    </tr>\n",
       "    <tr>\n",
       "      <th>1</th>\n",
       "      <td>2</td>\n",
       "      <td>AIGKFLHSAKKFGKAFVGEIMNS</td>\n",
       "      <td>mod. active</td>\n",
       "    </tr>\n",
       "    <tr>\n",
       "      <th>2</th>\n",
       "      <td>3</td>\n",
       "      <td>AWKKWAKAWKWAKAKWWAKAA</td>\n",
       "      <td>mod. active</td>\n",
       "    </tr>\n",
       "    <tr>\n",
       "      <th>3</th>\n",
       "      <td>4</td>\n",
       "      <td>ESFSDWWKLLAE</td>\n",
       "      <td>mod. active</td>\n",
       "    </tr>\n",
       "    <tr>\n",
       "      <th>4</th>\n",
       "      <td>5</td>\n",
       "      <td>ETFADWWKLLAE</td>\n",
       "      <td>mod. active</td>\n",
       "    </tr>\n",
       "    <tr>\n",
       "      <th>...</th>\n",
       "      <td>...</td>\n",
       "      <td>...</td>\n",
       "      <td>...</td>\n",
       "    </tr>\n",
       "    <tr>\n",
       "      <th>944</th>\n",
       "      <td>945</td>\n",
       "      <td>YLDKEVKLIKKMGNHLTNLRRVA</td>\n",
       "      <td>inactive - virtual</td>\n",
       "    </tr>\n",
       "    <tr>\n",
       "      <th>945</th>\n",
       "      <td>946</td>\n",
       "      <td>YLSESVETIKKLGDHITSLKKLW</td>\n",
       "      <td>inactive - virtual</td>\n",
       "    </tr>\n",
       "    <tr>\n",
       "      <th>946</th>\n",
       "      <td>947</td>\n",
       "      <td>YPIVDAAMRQLTETG</td>\n",
       "      <td>inactive - virtual</td>\n",
       "    </tr>\n",
       "    <tr>\n",
       "      <th>947</th>\n",
       "      <td>948</td>\n",
       "      <td>YQNIVKAVQYAARKLQ</td>\n",
       "      <td>inactive - virtual</td>\n",
       "    </tr>\n",
       "    <tr>\n",
       "      <th>948</th>\n",
       "      <td>949</td>\n",
       "      <td>YQQQKKYLGRMTE</td>\n",
       "      <td>inactive - virtual</td>\n",
       "    </tr>\n",
       "  </tbody>\n",
       "</table>\n",
       "<p>949 rows × 3 columns</p>\n",
       "</div>"
      ],
      "text/plain": [
       "      ID                 sequence               class\n",
       "0      1    AAWKWAWAKKWAKAKKWAKAA         mod. active\n",
       "1      2  AIGKFLHSAKKFGKAFVGEIMNS         mod. active\n",
       "2      3    AWKKWAKAWKWAKAKWWAKAA         mod. active\n",
       "3      4             ESFSDWWKLLAE         mod. active\n",
       "4      5             ETFADWWKLLAE         mod. active\n",
       "..   ...                      ...                 ...\n",
       "944  945  YLDKEVKLIKKMGNHLTNLRRVA  inactive - virtual\n",
       "945  946  YLSESVETIKKLGDHITSLKKLW  inactive - virtual\n",
       "946  947          YPIVDAAMRQLTETG  inactive - virtual\n",
       "947  948         YQNIVKAVQYAARKLQ  inactive - virtual\n",
       "948  949            YQQQKKYLGRMTE  inactive - virtual\n",
       "\n",
       "[949 rows x 3 columns]"
      ]
     },
     "execution_count": 6,
     "metadata": {},
     "output_type": "execute_result"
    }
   ],
   "source": [
    "df"
   ]
  },
  {
   "cell_type": "code",
   "execution_count": 8,
   "metadata": {},
   "outputs": [
    {
     "data": {
      "text/plain": [
       "array(['mod. active', 'inactive - exp', 'very active',\n",
       "       'inactive - virtual'], dtype=object)"
      ]
     },
     "execution_count": 8,
     "metadata": {},
     "output_type": "execute_result"
    }
   ],
   "source": [
    "df[\"class\"].unique()"
   ]
  },
  {
   "cell_type": "code",
   "execution_count": 218,
   "metadata": {},
   "outputs": [],
   "source": [
    "test_df_abnormal = df[df[\"class\"] == \"very active\"]"
   ]
  },
  {
   "cell_type": "code",
   "execution_count": 219,
   "metadata": {},
   "outputs": [
    {
     "data": {
      "text/html": [
       "<div>\n",
       "<style scoped>\n",
       "    .dataframe tbody tr th:only-of-type {\n",
       "        vertical-align: middle;\n",
       "    }\n",
       "\n",
       "    .dataframe tbody tr th {\n",
       "        vertical-align: top;\n",
       "    }\n",
       "\n",
       "    .dataframe thead th {\n",
       "        text-align: right;\n",
       "    }\n",
       "</style>\n",
       "<table border=\"1\" class=\"dataframe\">\n",
       "  <thead>\n",
       "    <tr style=\"text-align: right;\">\n",
       "      <th></th>\n",
       "      <th>ID</th>\n",
       "      <th>sequence</th>\n",
       "      <th>class</th>\n",
       "    </tr>\n",
       "  </thead>\n",
       "  <tbody>\n",
       "    <tr>\n",
       "      <th>26</th>\n",
       "      <td>27</td>\n",
       "      <td>FAKKLAKLAKKLAKLAL</td>\n",
       "      <td>very active</td>\n",
       "    </tr>\n",
       "    <tr>\n",
       "      <th>27</th>\n",
       "      <td>28</td>\n",
       "      <td>FAKKLAKLAKKLAKLALAL</td>\n",
       "      <td>very active</td>\n",
       "    </tr>\n",
       "    <tr>\n",
       "      <th>68</th>\n",
       "      <td>69</td>\n",
       "      <td>FALALKALKKLAKKLKKLAKKAL</td>\n",
       "      <td>very active</td>\n",
       "    </tr>\n",
       "    <tr>\n",
       "      <th>85</th>\n",
       "      <td>86</td>\n",
       "      <td>FLGALFKALSKLL</td>\n",
       "      <td>very active</td>\n",
       "    </tr>\n",
       "    <tr>\n",
       "      <th>87</th>\n",
       "      <td>88</td>\n",
       "      <td>FLGMIPKLIKKLIKAFK</td>\n",
       "      <td>very active</td>\n",
       "    </tr>\n",
       "    <tr>\n",
       "      <th>90</th>\n",
       "      <td>91</td>\n",
       "      <td>FLKLLKKLAAKLF</td>\n",
       "      <td>very active</td>\n",
       "    </tr>\n",
       "    <tr>\n",
       "      <th>91</th>\n",
       "      <td>92</td>\n",
       "      <td>FLSLIPKLVKKIIKAFK</td>\n",
       "      <td>very active</td>\n",
       "    </tr>\n",
       "    <tr>\n",
       "      <th>92</th>\n",
       "      <td>93</td>\n",
       "      <td>GIGAVLKVLTTGLPALISWIKRKRQQ</td>\n",
       "      <td>very active</td>\n",
       "    </tr>\n",
       "    <tr>\n",
       "      <th>99</th>\n",
       "      <td>100</td>\n",
       "      <td>GLFAVIKKVASVIGGL</td>\n",
       "      <td>very active</td>\n",
       "    </tr>\n",
       "    <tr>\n",
       "      <th>126</th>\n",
       "      <td>127</td>\n",
       "      <td>KKKFPWWWPFKKKCKKKFPWWWPFKKKC</td>\n",
       "      <td>very active</td>\n",
       "    </tr>\n",
       "    <tr>\n",
       "      <th>127</th>\n",
       "      <td>128</td>\n",
       "      <td>KKKFPWWWPFKKKKKKFPWWWPFKKKK</td>\n",
       "      <td>very active</td>\n",
       "    </tr>\n",
       "    <tr>\n",
       "      <th>139</th>\n",
       "      <td>140</td>\n",
       "      <td>KWKLFKKALKKLKKALKKAL</td>\n",
       "      <td>very active</td>\n",
       "    </tr>\n",
       "    <tr>\n",
       "      <th>143</th>\n",
       "      <td>144</td>\n",
       "      <td>KWKLFKKILKFLHLAKKF</td>\n",
       "      <td>very active</td>\n",
       "    </tr>\n",
       "    <tr>\n",
       "      <th>155</th>\n",
       "      <td>156</td>\n",
       "      <td>KWKLFKKISKFLHLAKKF</td>\n",
       "      <td>very active</td>\n",
       "    </tr>\n",
       "    <tr>\n",
       "      <th>161</th>\n",
       "      <td>162</td>\n",
       "      <td>KWKSFLKTFKSLKKTVLHTALKAISS</td>\n",
       "      <td>very active</td>\n",
       "    </tr>\n",
       "    <tr>\n",
       "      <th>178</th>\n",
       "      <td>179</td>\n",
       "      <td>RAGLQFPVGRLLRRLLRRLLR</td>\n",
       "      <td>very active</td>\n",
       "    </tr>\n",
       "    <tr>\n",
       "      <th>195</th>\n",
       "      <td>196</td>\n",
       "      <td>WFKKIPKFLHLLKKF</td>\n",
       "      <td>very active</td>\n",
       "    </tr>\n",
       "    <tr>\n",
       "      <th>197</th>\n",
       "      <td>198</td>\n",
       "      <td>WKKIPKFLHLLKKF</td>\n",
       "      <td>very active</td>\n",
       "    </tr>\n",
       "  </tbody>\n",
       "</table>\n",
       "</div>"
      ],
      "text/plain": [
       "      ID                      sequence        class\n",
       "26    27             FAKKLAKLAKKLAKLAL  very active\n",
       "27    28           FAKKLAKLAKKLAKLALAL  very active\n",
       "68    69       FALALKALKKLAKKLKKLAKKAL  very active\n",
       "85    86                 FLGALFKALSKLL  very active\n",
       "87    88             FLGMIPKLIKKLIKAFK  very active\n",
       "90    91                 FLKLLKKLAAKLF  very active\n",
       "91    92             FLSLIPKLVKKIIKAFK  very active\n",
       "92    93    GIGAVLKVLTTGLPALISWIKRKRQQ  very active\n",
       "99   100              GLFAVIKKVASVIGGL  very active\n",
       "126  127  KKKFPWWWPFKKKCKKKFPWWWPFKKKC  very active\n",
       "127  128   KKKFPWWWPFKKKKKKFPWWWPFKKKK  very active\n",
       "139  140          KWKLFKKALKKLKKALKKAL  very active\n",
       "143  144            KWKLFKKILKFLHLAKKF  very active\n",
       "155  156            KWKLFKKISKFLHLAKKF  very active\n",
       "161  162    KWKSFLKTFKSLKKTVLHTALKAISS  very active\n",
       "178  179         RAGLQFPVGRLLRRLLRRLLR  very active\n",
       "195  196               WFKKIPKFLHLLKKF  very active\n",
       "197  198                WKKIPKFLHLLKKF  very active"
      ]
     },
     "execution_count": 219,
     "metadata": {},
     "output_type": "execute_result"
    }
   ],
   "source": [
    "test_df_abnormal"
   ]
  },
  {
   "cell_type": "code",
   "execution_count": 220,
   "metadata": {},
   "outputs": [],
   "source": [
    "test_abnormal = test_df_abnormal[\"sequence\"].to_numpy()"
   ]
  },
  {
   "cell_type": "code",
   "execution_count": 221,
   "metadata": {},
   "outputs": [
    {
     "data": {
      "text/plain": [
       "(18,)"
      ]
     },
     "execution_count": 221,
     "metadata": {},
     "output_type": "execute_result"
    }
   ],
   "source": [
    "test_abnormal.shape"
   ]
  },
  {
   "cell_type": "code",
   "execution_count": 222,
   "metadata": {},
   "outputs": [],
   "source": [
    "train_df = df[df[\"class\"] == \"inactive - virtual\"]"
   ]
  },
  {
   "cell_type": "code",
   "execution_count": 223,
   "metadata": {},
   "outputs": [
    {
     "data": {
      "text/html": [
       "<div>\n",
       "<style scoped>\n",
       "    .dataframe tbody tr th:only-of-type {\n",
       "        vertical-align: middle;\n",
       "    }\n",
       "\n",
       "    .dataframe tbody tr th {\n",
       "        vertical-align: top;\n",
       "    }\n",
       "\n",
       "    .dataframe thead th {\n",
       "        text-align: right;\n",
       "    }\n",
       "</style>\n",
       "<table border=\"1\" class=\"dataframe\">\n",
       "  <thead>\n",
       "    <tr style=\"text-align: right;\">\n",
       "      <th></th>\n",
       "      <th>ID</th>\n",
       "      <th>sequence</th>\n",
       "      <th>class</th>\n",
       "    </tr>\n",
       "  </thead>\n",
       "  <tbody>\n",
       "    <tr>\n",
       "      <th>199</th>\n",
       "      <td>200</td>\n",
       "      <td>AADIFSKFKKDMEVKFA</td>\n",
       "      <td>inactive - virtual</td>\n",
       "    </tr>\n",
       "    <tr>\n",
       "      <th>200</th>\n",
       "      <td>201</td>\n",
       "      <td>AAQKDNVKSSWAKASA</td>\n",
       "      <td>inactive - virtual</td>\n",
       "    </tr>\n",
       "    <tr>\n",
       "      <th>201</th>\n",
       "      <td>202</td>\n",
       "      <td>AASQRKLIAEKFAQALMSSL</td>\n",
       "      <td>inactive - virtual</td>\n",
       "    </tr>\n",
       "    <tr>\n",
       "      <th>202</th>\n",
       "      <td>203</td>\n",
       "      <td>AAYATLYEALVLVATLAAP</td>\n",
       "      <td>inactive - virtual</td>\n",
       "    </tr>\n",
       "    <tr>\n",
       "      <th>203</th>\n",
       "      <td>204</td>\n",
       "      <td>AEAHESIRLVFHDS</td>\n",
       "      <td>inactive - virtual</td>\n",
       "    </tr>\n",
       "    <tr>\n",
       "      <th>...</th>\n",
       "      <td>...</td>\n",
       "      <td>...</td>\n",
       "      <td>...</td>\n",
       "    </tr>\n",
       "    <tr>\n",
       "      <th>944</th>\n",
       "      <td>945</td>\n",
       "      <td>YLDKEVKLIKKMGNHLTNLRRVA</td>\n",
       "      <td>inactive - virtual</td>\n",
       "    </tr>\n",
       "    <tr>\n",
       "      <th>945</th>\n",
       "      <td>946</td>\n",
       "      <td>YLSESVETIKKLGDHITSLKKLW</td>\n",
       "      <td>inactive - virtual</td>\n",
       "    </tr>\n",
       "    <tr>\n",
       "      <th>946</th>\n",
       "      <td>947</td>\n",
       "      <td>YPIVDAAMRQLTETG</td>\n",
       "      <td>inactive - virtual</td>\n",
       "    </tr>\n",
       "    <tr>\n",
       "      <th>947</th>\n",
       "      <td>948</td>\n",
       "      <td>YQNIVKAVQYAARKLQ</td>\n",
       "      <td>inactive - virtual</td>\n",
       "    </tr>\n",
       "    <tr>\n",
       "      <th>948</th>\n",
       "      <td>949</td>\n",
       "      <td>YQQQKKYLGRMTE</td>\n",
       "      <td>inactive - virtual</td>\n",
       "    </tr>\n",
       "  </tbody>\n",
       "</table>\n",
       "<p>750 rows × 3 columns</p>\n",
       "</div>"
      ],
      "text/plain": [
       "      ID                 sequence               class\n",
       "199  200        AADIFSKFKKDMEVKFA  inactive - virtual\n",
       "200  201         AAQKDNVKSSWAKASA  inactive - virtual\n",
       "201  202     AASQRKLIAEKFAQALMSSL  inactive - virtual\n",
       "202  203      AAYATLYEALVLVATLAAP  inactive - virtual\n",
       "203  204           AEAHESIRLVFHDS  inactive - virtual\n",
       "..   ...                      ...                 ...\n",
       "944  945  YLDKEVKLIKKMGNHLTNLRRVA  inactive - virtual\n",
       "945  946  YLSESVETIKKLGDHITSLKKLW  inactive - virtual\n",
       "946  947          YPIVDAAMRQLTETG  inactive - virtual\n",
       "947  948         YQNIVKAVQYAARKLQ  inactive - virtual\n",
       "948  949            YQQQKKYLGRMTE  inactive - virtual\n",
       "\n",
       "[750 rows x 3 columns]"
      ]
     },
     "execution_count": 223,
     "metadata": {},
     "output_type": "execute_result"
    }
   ],
   "source": [
    "train_df"
   ]
  },
  {
   "cell_type": "code",
   "execution_count": null,
   "metadata": {},
   "outputs": [],
   "source": []
  },
  {
   "cell_type": "code",
   "execution_count": 224,
   "metadata": {},
   "outputs": [],
   "source": [
    "train= train_df[\"sequence\"].to_numpy()"
   ]
  },
  {
   "cell_type": "code",
   "execution_count": 225,
   "metadata": {},
   "outputs": [],
   "source": [
    "train_normal, test_normal = train_test_split(train, test_size = test_abnormal.shape[0], shuffle = True)"
   ]
  },
  {
   "cell_type": "code",
   "execution_count": 226,
   "metadata": {},
   "outputs": [
    {
     "data": {
      "text/plain": [
       "((732,), (18,))"
      ]
     },
     "execution_count": 226,
     "metadata": {},
     "output_type": "execute_result"
    }
   ],
   "source": [
    "train_normal.shape, test_normal.shape"
   ]
  },
  {
   "cell_type": "code",
   "execution_count": 227,
   "metadata": {},
   "outputs": [],
   "source": [
    "A = set()\n",
    "\n",
    "for element in train:\n",
    "    A = A.union(set(element))\n",
    "for element in test_abnormal:\n",
    "    A = A.union(set(element))"
   ]
  },
  {
   "cell_type": "code",
   "execution_count": 228,
   "metadata": {},
   "outputs": [
    {
     "data": {
      "text/plain": [
       "{'A',\n",
       " 'C',\n",
       " 'D',\n",
       " 'E',\n",
       " 'F',\n",
       " 'G',\n",
       " 'H',\n",
       " 'I',\n",
       " 'K',\n",
       " 'L',\n",
       " 'M',\n",
       " 'N',\n",
       " 'P',\n",
       " 'Q',\n",
       " 'R',\n",
       " 'S',\n",
       " 'T',\n",
       " 'V',\n",
       " 'W',\n",
       " 'Y'}"
      ]
     },
     "execution_count": 228,
     "metadata": {},
     "output_type": "execute_result"
    }
   ],
   "source": [
    "A"
   ]
  },
  {
   "cell_type": "markdown",
   "metadata": {},
   "source": [
    "# Applying markov technique"
   ]
  },
  {
   "cell_type": "code",
   "execution_count": 229,
   "metadata": {},
   "outputs": [],
   "source": [
    "from importlib import reload\n",
    "import markov_chain\n",
    "markov_chain = reload(markov_chain)\n",
    "from markov_chain import compute_markov_chain, compute_probability"
   ]
  },
  {
   "cell_type": "code",
   "execution_count": 230,
   "metadata": {},
   "outputs": [],
   "source": [
    "A = np.array(list(A))"
   ]
  },
  {
   "cell_type": "code",
   "execution_count": 231,
   "metadata": {},
   "outputs": [
    {
     "data": {
      "text/plain": [
       "array(['M', 'A', 'N', 'R', 'E', 'S', 'I', 'P', 'D', 'H', 'L', 'W', 'Q',\n",
       "       'K', 'Y', 'C', 'T', 'V', 'F', 'G'], dtype='<U1')"
      ]
     },
     "execution_count": 231,
     "metadata": {},
     "output_type": "execute_result"
    }
   ],
   "source": [
    "A"
   ]
  },
  {
   "cell_type": "code",
   "execution_count": 232,
   "metadata": {},
   "outputs": [
    {
     "data": {
      "text/plain": [
       "array(['SRPLHISTFINELDSGFRLL', 'AADIFSKFKKDMEVKFA',\n",
       "       'SVEVAELWSTFMQKWIAYTAAVIDAERDR', 'NLLYDIVKENG',\n",
       "       'DNVVLQLQVARFLMKTVAQ', 'FIAVHEMLDGFRTALIDHLDTMAERAVQ',\n",
       "       'VMGQNLILNMND', 'EALVHKLTERM', 'SDWYLKGRLTSLESQFINALGILET',\n",
       "       'DVRVKEYFDDIARYFSIGLLNLIHLFG', 'TAHEAVLDFLTGRVEVFT',\n",
       "       'THAEMLHALKERY', 'TIEEFHSKLQEATN', 'NPEILLARVKRFLERE',\n",
       "       'QPNAILEKVFTA', 'PDEVSALRRTTEKNTTTLINLAKQH', 'DEFTKQHIVGK',\n",
       "       'FPLLVDHTSREADYFRKRLIQLNEG'], dtype=object)"
      ]
     },
     "execution_count": 232,
     "metadata": {},
     "output_type": "execute_result"
    }
   ],
   "source": [
    "test_normal"
   ]
  },
  {
   "cell_type": "code",
   "execution_count": 233,
   "metadata": {},
   "outputs": [
    {
     "name": "stdout",
     "output_type": "stream",
     "text": [
      "11416\n"
     ]
    }
   ],
   "source": [
    "Q, P = compute_markov_chain(A, train_normal)"
   ]
  },
  {
   "cell_type": "code",
   "execution_count": 234,
   "metadata": {},
   "outputs": [
    {
     "data": {
      "text/plain": [
       "(1.0,\n",
       " array([1., 1., 1., 1., 1., 1., 1., 1., 1., 1., 1., 1., 1., 1., 1., 1., 1.,\n",
       "        1., 1., 1.]))"
      ]
     },
     "execution_count": 234,
     "metadata": {},
     "output_type": "execute_result"
    }
   ],
   "source": [
    "np.sum(Q), np.sum(P, axis = 0)"
   ]
  },
  {
   "cell_type": "code",
   "execution_count": 235,
   "metadata": {},
   "outputs": [],
   "source": [
    "prob_normal = compute_probability(test_normal, A, Q, P)"
   ]
  },
  {
   "cell_type": "code",
   "execution_count": 236,
   "metadata": {},
   "outputs": [],
   "source": [
    "prob_abnormal = compute_probability(test_abnormal, A, Q, P)"
   ]
  },
  {
   "cell_type": "code",
   "execution_count": 237,
   "metadata": {},
   "outputs": [
    {
     "data": {
      "text/plain": [
       "(array([2.86187001e-26, 5.97182866e-21, 2.00512619e-36, 2.50870783e-14,\n",
       "        4.64464458e-23, 7.69830956e-36, 2.13249772e-16, 3.53050615e-14,\n",
       "        8.70495371e-32, 8.23448904e-34, 8.67099977e-23, 1.21965248e-16,\n",
       "        2.59074509e-18, 1.27244451e-18, 4.83739897e-16, 2.89032188e-32,\n",
       "        5.57068738e-15, 8.91314056e-32]),\n",
       " array([1.49808627e-18, 2.16236984e-20, 5.16902865e-24, 5.95575771e-15,\n",
       "        4.17715264e-21, 2.64129886e-14, 9.78508692e-21, 1.19598263e-32,\n",
       "        1.97212698e-19, 0.00000000e+00, 9.25287564e-36, 5.94454830e-22,\n",
       "        6.06099542e-22, 2.47605812e-22, 1.28030088e-31, 9.06300850e-25,\n",
       "        2.98694665e-19, 3.40871457e-18]))"
      ]
     },
     "execution_count": 237,
     "metadata": {},
     "output_type": "execute_result"
    }
   ],
   "source": [
    "prob_normal, prob_abnormal"
   ]
  },
  {
   "cell_type": "code",
   "execution_count": 238,
   "metadata": {},
   "outputs": [
    {
     "data": {
      "text/plain": [
       "(18,)"
      ]
     },
     "execution_count": 238,
     "metadata": {},
     "output_type": "execute_result"
    }
   ],
   "source": [
    "prob_normal = np.sort(prob_normal)\n",
    "prob_abnormal = np.sort(prob_abnormal)\n",
    "prob_normal.shape"
   ]
  },
  {
   "cell_type": "code",
   "execution_count": 239,
   "metadata": {},
   "outputs": [
    {
     "data": {
      "text/plain": [
       "((20, 20), (20, 1))"
      ]
     },
     "execution_count": 239,
     "metadata": {},
     "output_type": "execute_result"
    }
   ],
   "source": [
    "P.shape, Q.shape"
   ]
  },
  {
   "cell_type": "code",
   "execution_count": 241,
   "metadata": {},
   "outputs": [
    {
     "data": {
      "image/png": "[encoded data removed]",
      "text/plain": [
       "<Figure size 720x576 with 1 Axes>"
      ]
     },
     "metadata": {
      "needs_background": "light"
     },
     "output_type": "display_data"
    }
   ],
   "source": [
    "plt.figure(figsize = (10,8))\n",
    "plt.bar(np.arange(prob_normal.shape[0]),np.sort(prob_normal), label = \"Normal\", width = 0.25)\n",
    "plt.bar(np.arange(prob_normal.shape[0]) + 0.5,np.sort(prob_abnormal), label = \"Abnormal\", width = 0.25)\n",
    "plt.legend(prop={'size': 20})\n",
    "plt.yscale(\"log\")"
   ]
  },
  {
   "cell_type": "code",
   "execution_count": 168,
   "metadata": {},
   "outputs": [
    {
     "data": {
      "text/plain": [
       "<matplotlib.legend.Legend at 0x2a672836e80>"
      ]
     },
     "execution_count": 168,
     "metadata": {},
     "output_type": "execute_result"
    },
    {
     "data": {
      "image/png": "[encoded data removed]",
      "text/plain": [
       "<Figure size 1080x720 with 1 Axes>"
      ]
     },
     "metadata": {
      "needs_background": "light"
     },
     "output_type": "display_data"
    }
   ],
   "source": [
    "plt.figure(figsize = (15,10))\n",
    "plt.plot(np.arange(prob_normal.shape[0]), prob_normal, label = \"normal\")\n",
    "plt.plot(np.arange(prob_normal.shape[0], prob_normal.shape[0] + prob_abnormal.shape[0]), prob_abnormal, label = \"abnormal\")\n",
    "plt.legend(prop={'size': 20})"
   ]
  },
  {
   "cell_type": "markdown",
   "metadata": {},
   "source": [
    "## Multiple entrie markov chain"
   ]
  },
  {
   "cell_type": "code",
   "execution_count": null,
   "metadata": {},
   "outputs": [],
   "source": [
    "import markov_chain\n",
    "markov_chain = reload(markov_chain)\n",
    "from markov_chain import compute_markov_chain, compute_probability"
   ]
  }
 ],
 "metadata": {
  "kernelspec": {
   "display_name": "Python 3",
   "language": "python",
   "name": "python3"
  }
 },
 "nbformat": 4,
 "nbformat_minor": 4
}
